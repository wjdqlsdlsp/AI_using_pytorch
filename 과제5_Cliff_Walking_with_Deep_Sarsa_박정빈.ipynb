{
  "nbformat": 4,
  "nbformat_minor": 0,
  "metadata": {
    "colab": {
      "name": "과제5_Cliff_Walking_with_Deep_Sarsa_박정빈",
      "provenance": [],
      "collapsed_sections": [],
      "include_colab_link": true
    },
    "kernelspec": {
      "name": "python3",
      "display_name": "Python 3"
    },
    "language_info": {
      "name": "python"
    }
  },
  "cells": [
    {
      "cell_type": "markdown",
      "metadata": {
        "id": "view-in-github",
        "colab_type": "text"
      },
      "source": [
        "<a href=\"https://colab.research.google.com/github/wjdqlsdlsp/AI_using_pytorch-reinforce-learning/blob/main/%E1%84%80%E1%85%AA%E1%84%8C%E1%85%A65_Cliff_Walking_with_Deep_Sarsa_%E1%84%87%E1%85%A1%E1%86%A8%E1%84%8C%E1%85%A5%E1%86%BC%E1%84%87%E1%85%B5%E1%86%AB.ipynb\" target=\"_parent\"><img src=\"https://colab.research.google.com/assets/colab-badge.svg\" alt=\"Open In Colab\"/></a>"
      ]
    },
    {
      "cell_type": "markdown",
      "metadata": {
        "id": "I8Jl3uq0gg-E"
      },
      "source": [
        "# **[인공지능] 과제5 Cliff Walking 예제 Sarsa 구현**\n"
      ]
    },
    {
      "cell_type": "code",
      "metadata": {
        "id": "dlwSKTZhgDTM"
      },
      "source": [
        "import numpy as np\n",
        "import random\n",
        "from tqdm import tqdm\n",
        "from collections import defaultdict, namedtuple, deque\n",
        "from gym.envs.toy_text.cliffwalking import CliffWalkingEnv # Cliff Walking 환경\n",
        "\n",
        "import torch\n",
        "import torch.nn as nn\n",
        "import torch.optim as optim"
      ],
      "execution_count": null,
      "outputs": []
    },
    {
      "cell_type": "code",
      "metadata": {
        "id": "PLfl84A7nfo7"
      },
      "source": [
        "class QtoPolicy:\n",
        "    def __init__(self):\n",
        "        self.action = ['↑', '→', '↓', '←', 'X']\n",
        "\n",
        "    def printPolicy(self, Q):\n",
        "        policy = np.array([np.argmax(Q[key]) if key in Q else -1 for key in np.arange(48)])\n",
        "        v = ([np.max(Q[key]) if key in Q else 0 for key in np.arange(48)])\n",
        "        actions = np.stack([self.action for _ in range(len(policy))], axis=0)\n",
        "        policy[36:] = np.array([0] + [3] * 10 + [4])\n",
        "\n",
        "        print(np.take(actions, np.reshape(policy, (4, 12))))\n",
        "        print('')"
      ],
      "execution_count": null,
      "outputs": []
    },
    {
      "cell_type": "code",
      "metadata": {
        "id": "Aod3D2Lnkw7_"
      },
      "source": [
        "# Experience replay를 위한 replay buffer class 생성\n",
        "Transition = namedtuple('Transition',\n",
        "                        ('state', 'action', 'reward', 'next_state'))\n",
        "\n",
        "\n",
        "class ReplayBuffer(object):\n",
        "\n",
        "    def __init__(self, capacity):\n",
        "        self.buffer = deque([],maxlen=capacity)\n",
        "\n",
        "    def push(self, *args):\n",
        "        self.buffer.append(Transition(*args))\n",
        "\n",
        "    def sample(self, batch_size):\n",
        "        return random.sample(self.buffer, batch_size)\n",
        "\n",
        "    def __len__(self):\n",
        "        return len(self.buffer)"
      ],
      "execution_count": null,
      "outputs": []
    },
    {
      "cell_type": "code",
      "metadata": {
        "id": "moiYtfA0pYiY"
      },
      "source": [
        "class DNN(nn.Module):\n",
        "    # DNN 모델 설계 및 초기값 설정\n",
        "    def __init__(self, inputs, outputs):\n",
        "        super(DNN, self).__init__()\n",
        "        self.x_dim = inputs\n",
        "        self.y_dim = outputs\n",
        "        self.fc_variable_no = 100\n",
        "\n",
        "        # network 용 변수\n",
        "        self.fc_in = nn.Linear(self.x_dim, self.fc_variable_no)\n",
        "        self.fc_hidden1 = nn.Linear(self.fc_variable_no, self.fc_variable_no)\n",
        "        self.fc_hidden2 = nn.Linear(self.fc_variable_no, self.fc_variable_no)\n",
        "        self.fc_hidden3 = nn.Linear(self.fc_variable_no, self.fc_variable_no)\n",
        "        self.fc_out = nn.Linear(self.fc_variable_no, self.y_dim)\n",
        "        self.relu = nn.ReLU()\n",
        "\n",
        "    # 전파 과정\n",
        "    def forward(self, x):\n",
        "        x = torch.reshape(x, [-1, self.x_dim])\n",
        "        x = self.relu(self.fc_in(x))\n",
        "        x = self.relu(self.fc_hidden1(x))\n",
        "        x = self.relu(self.fc_hidden2(x))\n",
        "        x = self.relu(self.fc_hidden3(x))\n",
        "        x = self.fc_out(x)\n",
        "        return x"
      ],
      "execution_count": null,
      "outputs": []
    },
    {
      "cell_type": "code",
      "metadata": {
        "id": "jR9Mn8MoxOvS"
      },
      "source": [
        "class DeepSarsa:\n",
        "    def __init__(self):\n",
        "        self.state_no = 48 # state의 갯수\n",
        "        self.action_no = 4 # action의 갯수\n",
        "        self.alpha = 0.001 # 학습률\n",
        "        self.gamma = 0.99 # Discount factor\n",
        "        self.epsilon = 0.5 # 앱실론\n",
        "\n",
        "        \n",
        "        self.batch_size = 32  # Experience replay에서의 batch size\n",
        "        self.training_interval = 10  # Q-Network 학습 interval\n",
        "        # self.target_update_interval = 100  # target Q-Network 학습 interval\n",
        "\n",
        "        self.main_net = DNN(self.state_no, self.action_no) # DNN 모델\n",
        "        # self.target_net = DNN(self.state_no, self.action_no) # DNN 모델 (타겟 계산)\n",
        "\n",
        "        # # Fixed target Q-Network를 정의하고 main Q-network와 동일하게 초기화\n",
        "        # self.target_net.load_state_dict(self.main_net.state_dict())\n",
        "        # self.target_net.eval()\n",
        "\n",
        "        self.optimizer = optim.Adam(self.main_net.parameters(), lr=self.alpha)\n",
        "        # Experience replay를 위한 buffer 정의\n",
        "        self.buffer = ReplayBuffer(500)\n",
        "\n",
        "    # state의 인덱스가 연속적인 의미를 가지고 있지 않으므로 효과적인 학습을\n",
        "    # 위해 one-hot encoding을 수행\n",
        "    def one_hot_state(self, state):\n",
        "        one_hot_encoded = np.zeros((1, self.state_no))\n",
        "        one_hot_encoded[0, state] = 1\n",
        "\n",
        "        return one_hot_encoded\n",
        "    \n",
        "    # 학습이 끝난 후 Q-Network에서 Q-value 계산하는 함수\n",
        "    def get_q_values(self):\n",
        "        q_values = defaultdict(lambda: [0.0] * self.action_no)\n",
        "        # 각 state 별 Q-value 계산\n",
        "        for i in range(self.state_no):\n",
        "            state = torch.tensor(self.one_hot_state(i)).float()\n",
        "            q_values[i] = self.main_net(state).tolist()\n",
        "        return q_values\n",
        "\n",
        "    # 신경망 최적화 모델\n",
        "    def optimize_model(self, next_action):\n",
        "        # 버퍼의 크기가 배치사이즈보다 작을 경우, return\n",
        "        if len(self.buffer) < self.batch_size:\n",
        "            return\n",
        "        \n",
        "        # 학습을 위한 transition의 랜덤 배치를 선택\n",
        "        transitions = self.buffer.sample(self.batch_size)\n",
        "        \n",
        "        # 위에서 정의한 Transition을 이용하여 각각의 이름을 설정\n",
        "        batch = Transition(*zip(*transitions))\n",
        "\n",
        "        # batch.next_state값을 map을 이용하여 다음으로 변환 : None 여부 판단\n",
        "        non_final_mask = torch.tensor(tuple(map(lambda s : s is not None,\n",
        "                                                batch.next_state)), dtype=torch.bool)\n",
        "        # torch.cat을 이용하여 tensor를 연결\n",
        "        non_final_next_states = torch.cat([s for s in batch.next_state\n",
        "                                                if s is not None])\n",
        "        state_batch = torch.cat(batch.state)\n",
        "        action_batch = torch.cat(batch.action)\n",
        "        reward_batch = torch.cat(batch.reward)\n",
        "\n",
        "        # 밸류 값 계산을 위해 main_net이용. Q(s)를 계산한 뒤, 이에 대한 action의 열을 선택\n",
        "        state_action_values = self.main_net(state_batch).gather(1, action_batch)\n",
        "\n",
        "        # DQN과 가장 다른 점으로, 타겟 값을 계산할 때, next_action 값을 사용\n",
        "        next_state_values = self.main_net(non_final_next_states)[next_action].detach()\n",
        "        # 공식에 의해서, 타겟 값 계산\n",
        "        target_state_action_values = (next_state_values * self.gamma) + reward_batch\n",
        "\n",
        "        # 손실 함수 정의\n",
        "        criterion = nn.SmoothL1Loss()\n",
        "        loss = criterion(state_action_values, target_state_action_values)\n",
        "\n",
        "        # 오류 역전파 진행\n",
        "        self.optimizer.zero_grad()\n",
        "        loss.backward()\n",
        "        for param in self.main_net.parameters():\n",
        "            param.grad.data.clamp_(-10, 10)\n",
        "        # 그레디언트 갱신\n",
        "        self.optimizer.step()\n",
        "\n",
        "    # DQN 갱신 부분\n",
        "    def update(self, state, action, reward, next_state, time_step, next_action):\n",
        "        # 버퍼에 값 저장\n",
        "        self.buffer.push(torch.from_numpy(state).float(),\n",
        "                         torch.tensor(action).reshape((-1, 1)),\n",
        "                         torch.tensor(reward).reshape((-1, 1)),\n",
        "                         torch.from_numpy(next_state).float())\n",
        "        # train_interval 마다, DNN 최적화 함수 실행\n",
        "        if (time_step + 1) % self.training_interval == 0:\n",
        "            self.optimize_model(next_action)\n",
        "       \n",
        "\n",
        "\n",
        "    # DQN epsilon-greedy 정책\n",
        "    def act(self, state):\n",
        "        # 설정한 입실론 값보다 작을 경우, 랜덤 액션을 취함\n",
        "        if np.random.rand() < self.epsilon:\n",
        "            action = np.random.choice(self.action_no)\n",
        "        # 설정한 입실론 값보다 클 경우\n",
        "        else:\n",
        "            with torch.no_grad():\n",
        "                # 모델에 입력하기 위해 텐서 변환\n",
        "                state = torch.from_numpy(state).float()\n",
        "                # main_net을 통해 q_value값을 얻음\n",
        "                q_values = self.main_net(state)\n",
        "                # q_value값이 가장 큰 값인 행동을 선택하여 return\n",
        "                action = torch.argmax(q_values, 1).item()\n",
        "        return action\n"
      ],
      "execution_count": null,
      "outputs": []
    },
    {
      "cell_type": "code",
      "metadata": {
        "id": "orqk6rcLg-uZ"
      },
      "source": [
        "env = CliffWalkingEnv()\n",
        "policy = QtoPolicy()"
      ],
      "execution_count": null,
      "outputs": []
    },
    {
      "cell_type": "code",
      "metadata": {
        "id": "fJ5ZtkU9xJGg",
        "outputId": "97fef6af-42bb-4def-ff95-bb6bf01359ed",
        "colab": {
          "base_uri": "https://localhost:8080/"
        }
      },
      "source": [
        "agent_DeepSarsa = DeepSarsa()\n",
        "time_step = 0\n",
        "for ep in tqdm(range(5000)):\n",
        "    done = False\n",
        "    state = env.reset()\n",
        "    state = agent_DeepSarsa.one_hot_state(state)\n",
        "    action = agent_DeepSarsa.act(state)\n",
        "    ep_reward = 0\n",
        "    ep_steps = 0\n",
        "    if ep % 50 ==0:\n",
        "        print(\"\\n\")\n",
        "        policy.printPolicy(agent_DeepSarsa.get_q_values())\n",
        "    while not done:\n",
        "        next_state, reward, done, info = env.step(action)\n",
        "\n",
        "        next_state = agent_DeepSarsa.one_hot_state(next_state)\n",
        "\n",
        "        next_action = agent_DeepSarsa.act(next_state)\n",
        "\n",
        "        agent_DeepSarsa.update(state, action, reward, next_state, time_step, next_action)\n",
        "        time_step = time_step + 1\n",
        "\n",
        "        ep_reward+=reward\n",
        "        state = next_state\n",
        "        action = next_action\n",
        "        ep_steps = ep_steps + 1"
      ],
      "execution_count": null,
      "outputs": [
        {
          "output_type": "stream",
          "name": "stderr",
          "text": [
            "\r  0%|          | 0/5000 [00:00<?, ?it/s]/usr/local/lib/python3.7/dist-packages/torch/nn/modules/loss.py:912: UserWarning: Using a target size (torch.Size([32, 4])) that is different to the input size (torch.Size([32, 1])). This will likely lead to incorrect results due to broadcasting. Please ensure they have the same size.\n",
            "  return F.smooth_l1_loss(input, target, reduction=self.reduction, beta=self.beta)\n"
          ]
        },
        {
          "output_type": "stream",
          "name": "stdout",
          "text": [
            "\n",
            "\n",
            "[['→' '→' '→' '→' '→' '→' '→' '→' '→' '→' '→' '→']\n",
            " ['→' '→' '→' '→' '→' '→' '→' '→' '→' '→' '→' '→']\n",
            " ['→' '→' '→' '→' '→' '→' '→' '→' '→' '→' '→' '→']\n",
            " ['↑' '←' '←' '←' '←' '←' '←' '←' '←' '←' '←' 'X']]\n",
            "\n"
          ]
        },
        {
          "output_type": "stream",
          "name": "stderr",
          "text": [
            "  1%|          | 51/5000 [00:28<09:31,  8.66it/s]"
          ]
        },
        {
          "output_type": "stream",
          "name": "stdout",
          "text": [
            "\n",
            "\n",
            "[['↓' '↓' '↓' '↓' '↓' '↓' '↓' '↓' '↓' '↓' '↓' '↓']\n",
            " ['↓' '↓' '↓' '↓' '↓' '↓' '↓' '↓' '↓' '↓' '↓' '↓']\n",
            " ['↓' '→' '↓' '→' '↓' '→' '→' '→' '→' '→' '↓' '↓']\n",
            " ['↑' '←' '←' '←' '←' '←' '←' '←' '←' '←' '←' 'X']]\n",
            "\n"
          ]
        },
        {
          "output_type": "stream",
          "name": "stderr",
          "text": [
            "  2%|▏         | 99/5000 [00:36<12:28,  6.55it/s]"
          ]
        },
        {
          "output_type": "stream",
          "name": "stdout",
          "text": [
            "\n",
            "\n",
            "[['↑' '↑' '→' '↑' '↑' '↑' '↑' '↑' '→' '↑' '↑' '↑']\n",
            " ['↑' '↑' '↑' '→' '→' '→' '↑' '↑' '→' '→' '→' '→']\n",
            " ['↑' '→' '→' '→' '↑' '↑' '→' '→' '→' '→' '→' '→']\n",
            " ['↑' '←' '←' '←' '←' '←' '←' '←' '←' '←' '←' 'X']]\n",
            "\n"
          ]
        },
        {
          "output_type": "stream",
          "name": "stderr",
          "text": [
            "  3%|▎         | 152/5000 [00:47<09:56,  8.13it/s]"
          ]
        },
        {
          "output_type": "stream",
          "name": "stdout",
          "text": [
            "\n",
            "\n",
            "[['↑' '↑' '↑' '↑' '↑' '↑' '↑' '↑' '→' '↑' '↑' '↑']\n",
            " ['↑' '↑' '↑' '↑' '↑' '↑' '↑' '→' '↑' '↑' '↑' '↑']\n",
            " ['↑' '→' '→' '→' '↑' '→' '→' '→' '→' '→' '→' '↑']\n",
            " ['↑' '←' '←' '←' '←' '←' '←' '←' '←' '←' '←' 'X']]\n",
            "\n"
          ]
        },
        {
          "output_type": "stream",
          "name": "stderr",
          "text": [
            "  4%|▍         | 201/5000 [00:55<13:27,  5.94it/s]"
          ]
        },
        {
          "output_type": "stream",
          "name": "stdout",
          "text": [
            "\n",
            "\n",
            "[['↑' '↑' '→' '↑' '→' '→' '→' '→' '↑' '→' '↑' '↑']\n",
            " ['→' '↑' '→' '→' '↑' '→' '→' '→' '→' '→' '→' '→']\n",
            " ['↑' '→' '→' '→' '↑' '→' '→' '→' '→' '→' '→' '→']\n",
            " ['↑' '←' '←' '←' '←' '←' '←' '←' '←' '←' '←' 'X']]\n",
            "\n"
          ]
        },
        {
          "output_type": "stream",
          "name": "stderr",
          "text": [
            "  5%|▌         | 250/5000 [01:04<15:42,  5.04it/s]"
          ]
        },
        {
          "output_type": "stream",
          "name": "stdout",
          "text": [
            "\n",
            "\n",
            "[['↓' '↓' '↓' '↓' '↓' '↓' '↓' '↓' '↓' '↓' '↓' '↓']\n",
            " ['↓' '↓' '↓' '↓' '↓' '↓' '↓' '↓' '↓' '↓' '→' '↓']\n",
            " ['↓' '→' '↓' '↓' '→' '→' '→' '→' '→' '→' '→' '↓']\n",
            " ['↑' '←' '←' '←' '←' '←' '←' '←' '←' '←' '←' 'X']]\n",
            "\n"
          ]
        },
        {
          "output_type": "stream",
          "name": "stderr",
          "text": [
            "  6%|▌         | 301/5000 [01:14<20:08,  3.89it/s]"
          ]
        },
        {
          "output_type": "stream",
          "name": "stdout",
          "text": [
            "\n",
            "\n",
            "[['↓' '↓' '↓' '↓' '↓' '↓' '→' '↓' '→' '↓' '→' '↓']\n",
            " ['→' '↓' '↓' '↓' '↓' '↓' '→' '↓' '→' '→' '↓' '↓']\n",
            " ['↓' '↓' '↓' '→' '→' '→' '→' '→' '→' '→' '→' '→']\n",
            " ['↑' '←' '←' '←' '←' '←' '←' '←' '←' '←' '←' 'X']]\n",
            "\n"
          ]
        },
        {
          "output_type": "stream",
          "name": "stderr",
          "text": [
            "  7%|▋         | 351/5000 [01:23<11:36,  6.68it/s]"
          ]
        },
        {
          "output_type": "stream",
          "name": "stdout",
          "text": [
            "\n",
            "\n",
            "[['→' '↑' '↑' '↑' '↑' '↑' '↑' '↑' '→' '↑' '↑' '→']\n",
            " ['↑' '↑' '↑' '↑' '↑' '↑' '↑' '→' '→' '↑' '↑' '↑']\n",
            " ['↑' '→' '→' '→' '→' '→' '→' '→' '↑' '→' '→' '→']\n",
            " ['↑' '←' '←' '←' '←' '←' '←' '←' '←' '←' '←' 'X']]\n",
            "\n"
          ]
        },
        {
          "output_type": "stream",
          "name": "stderr",
          "text": [
            "  8%|▊         | 400/5000 [01:33<20:39,  3.71it/s]"
          ]
        },
        {
          "output_type": "stream",
          "name": "stdout",
          "text": [
            "\n",
            "\n",
            "[['→' '→' '→' '→' '→' '→' '→' '→' '→' '→' '→' '→']\n",
            " ['→' '↑' '→' '→' '↑' '→' '→' '→' '→' '→' '→' '→']\n",
            " ['→' '→' '→' '→' '→' '→' '→' '→' '→' '→' '→' '↑']\n",
            " ['↑' '←' '←' '←' '←' '←' '←' '←' '←' '←' '←' 'X']]\n",
            "\n"
          ]
        },
        {
          "output_type": "stream",
          "name": "stderr",
          "text": [
            "  9%|▉         | 450/5000 [01:47<12:38,  6.00it/s]"
          ]
        },
        {
          "output_type": "stream",
          "name": "stdout",
          "text": [
            "\n",
            "\n",
            "[['→' '→' '→' '→' '→' '→' '→' '→' '→' '→' '→' '→']\n",
            " ['→' '→' '→' '→' '→' '→' '→' '→' '→' '→' '→' '→']\n",
            " ['→' '→' '→' '→' '→' '→' '→' '←' '←' '→' '→' '→']\n",
            " ['↑' '←' '←' '←' '←' '←' '←' '←' '←' '←' '←' 'X']]\n",
            "\n"
          ]
        },
        {
          "output_type": "stream",
          "name": "stderr",
          "text": [
            " 10%|█         | 500/5000 [01:56<17:36,  4.26it/s]"
          ]
        },
        {
          "output_type": "stream",
          "name": "stdout",
          "text": [
            "\n",
            "\n",
            "[['↑' '↑' '↑' '↑' '↑' '↑' '↑' '↑' '↑' '↑' '↑' '↑']\n",
            " ['↑' '↑' '↑' '↑' '→' '↑' '↑' '↑' '↑' '↓' '↑' '↑']\n",
            " ['↑' '→' '→' '→' '→' '↑' '↑' '→' '↑' '→' '→' '↓']\n",
            " ['↑' '←' '←' '←' '←' '←' '←' '←' '←' '←' '←' 'X']]\n",
            "\n"
          ]
        },
        {
          "output_type": "stream",
          "name": "stderr",
          "text": [
            " 11%|█         | 550/5000 [02:03<10:12,  7.26it/s]"
          ]
        },
        {
          "output_type": "stream",
          "name": "stdout",
          "text": [
            "\n",
            "\n",
            "[['→' '↓' '→' '↓' '↓' '→' '↓' '→' '→' '↓' '↓' '→']\n",
            " ['↓' '→' '↓' '↓' '→' '→' '↓' '↓' '↓' '↓' '→' '↓']\n",
            " ['↓' '→' '→' '→' '→' '↑' '→' '→' '↑' '↑' '→' '↓']\n",
            " ['↑' '←' '←' '←' '←' '←' '←' '←' '←' '←' '←' 'X']]\n",
            "\n"
          ]
        },
        {
          "output_type": "stream",
          "name": "stderr",
          "text": [
            " 12%|█▏        | 600/5000 [02:12<14:14,  5.15it/s]"
          ]
        },
        {
          "output_type": "stream",
          "name": "stdout",
          "text": [
            "\n",
            "\n",
            "[['↓' '↑' '↑' '↑' '↓' '↑' '↓' '↓' '↓' '↓' '↑' '↑']\n",
            " ['↑' '↑' '↑' '↓' '→' '↑' '↓' '↑' '↓' '↑' '↑' '↑']\n",
            " ['↑' '←' '←' '←' '←' '→' '←' '←' '←' '←' '←' '↑']\n",
            " ['↑' '←' '←' '←' '←' '←' '←' '←' '←' '←' '←' 'X']]\n",
            "\n"
          ]
        },
        {
          "output_type": "stream",
          "name": "stderr",
          "text": [
            " 13%|█▎        | 650/5000 [02:22<09:36,  7.54it/s]"
          ]
        },
        {
          "output_type": "stream",
          "name": "stdout",
          "text": [
            "\n",
            "\n",
            "[['→' '→' '→' '→' '→' '→' '→' '→' '→' '→' '→' '→']\n",
            " ['→' '→' '→' '→' '→' '↓' '↑' '↑' '→' '→' '→' '→']\n",
            " ['→' '→' '→' '→' '→' '→' '→' '→' '↑' '→' '→' '→']\n",
            " ['↑' '←' '←' '←' '←' '←' '←' '←' '←' '←' '←' 'X']]\n",
            "\n"
          ]
        },
        {
          "output_type": "stream",
          "name": "stderr",
          "text": [
            " 14%|█▍        | 702/5000 [02:32<09:23,  7.62it/s]"
          ]
        },
        {
          "output_type": "stream",
          "name": "stdout",
          "text": [
            "\n",
            "\n",
            "[['↓' '↓' '↓' '↓' '↓' '↓' '↓' '↓' '→' '↓' '↓' '→']\n",
            " ['↓' '↓' '↓' '↓' '↓' '↓' '→' '↓' '↓' '↓' '↓' '↓']\n",
            " ['↓' '↑' '→' '↑' '↑' '→' '↑' '→' '↑' '→' '↑' '↓']\n",
            " ['↑' '←' '←' '←' '←' '←' '←' '←' '←' '←' '←' 'X']]\n",
            "\n"
          ]
        },
        {
          "output_type": "stream",
          "name": "stderr",
          "text": [
            " 15%|█▍        | 749/5000 [02:40<17:07,  4.14it/s]"
          ]
        },
        {
          "output_type": "stream",
          "name": "stdout",
          "text": [
            "\n",
            "\n",
            "[['↓' '↓' '↓' '→' '↓' '→' '↓' '→' '↑' '→' '↓' '↓']\n",
            " ['↓' '→' '↑' '↑' '↑' '↑' '↓' '→' '→' '↓' '↓' '↓']\n",
            " ['↓' '↑' '↑' '↑' '↑' '↑' '↑' '↑' '↑' '↑' '↑' '↓']\n",
            " ['↑' '←' '←' '←' '←' '←' '←' '←' '←' '←' '←' 'X']]\n",
            "\n"
          ]
        },
        {
          "output_type": "stream",
          "name": "stderr",
          "text": [
            " 16%|█▌        | 800/5000 [02:48<09:27,  7.41it/s]"
          ]
        },
        {
          "output_type": "stream",
          "name": "stdout",
          "text": [
            "\n",
            "\n",
            "[['↓' '↓' '↓' '↓' '↓' '←' '↓' '↓' '←' '↓' '↓' '↓']\n",
            " ['↓' '↓' '↓' '←' '↓' '↓' '↓' '↓' '↓' '↓' '↓' '↓']\n",
            " ['↓' '←' '←' '←' '←' '←' '←' '←' '←' '←' '←' '↓']\n",
            " ['↑' '←' '←' '←' '←' '←' '←' '←' '←' '←' '←' 'X']]\n",
            "\n"
          ]
        },
        {
          "output_type": "stream",
          "name": "stderr",
          "text": [
            " 17%|█▋        | 850/5000 [03:01<22:19,  3.10it/s]"
          ]
        },
        {
          "output_type": "stream",
          "name": "stdout",
          "text": [
            "\n",
            "\n",
            "[['→' '→' '→' '→' '→' '→' '→' '→' '→' '→' '↑' '↓']\n",
            " ['→' '→' '→' '→' '→' '→' '→' '→' '→' '→' '→' '→']\n",
            " ['→' '→' '→' '→' '→' '→' '→' '→' '→' '→' '→' '→']\n",
            " ['↑' '←' '←' '←' '←' '←' '←' '←' '←' '←' '←' 'X']]\n",
            "\n"
          ]
        },
        {
          "output_type": "stream",
          "name": "stderr",
          "text": [
            " 18%|█▊        | 902/5000 [03:11<10:53,  6.27it/s]"
          ]
        },
        {
          "output_type": "stream",
          "name": "stdout",
          "text": [
            "\n",
            "\n",
            "[['→' '→' '→' '→' '→' '→' '→' '→' '→' '↓' '→' '→']\n",
            " ['→' '→' '→' '→' '→' '→' '↓' '→' '→' '→' '→' '→']\n",
            " ['→' '←' '→' '→' '←' '↑' '←' '→' '←' '↑' '←' '↓']\n",
            " ['↑' '←' '←' '←' '←' '←' '←' '←' '←' '←' '←' 'X']]\n",
            "\n"
          ]
        },
        {
          "output_type": "stream",
          "name": "stderr",
          "text": [
            " 19%|█▉        | 950/5000 [03:19<12:52,  5.24it/s]"
          ]
        },
        {
          "output_type": "stream",
          "name": "stdout",
          "text": [
            "\n",
            "\n",
            "[['↑' '↑' '↑' '→' '↑' '↑' '→' '→' '↓' '↑' '↑' '↑']\n",
            " ['↑' '↑' '↑' '↓' '↑' '↑' '↑' '→' '↑' '↑' '↓' '↑']\n",
            " ['↑' '↑' '→' '→' '→' '↑' '↑' '→' '↑' '↑' '→' '↑']\n",
            " ['↑' '←' '←' '←' '←' '←' '←' '←' '←' '←' '←' 'X']]\n",
            "\n"
          ]
        },
        {
          "output_type": "stream",
          "name": "stderr",
          "text": [
            " 20%|██        | 1000/5000 [03:31<10:57,  6.08it/s]"
          ]
        },
        {
          "output_type": "stream",
          "name": "stdout",
          "text": [
            "\n",
            "\n",
            "[['↓' '→' '→' '→' '→' '→' '→' '↓' '↓' '↓' '↓' '→']\n",
            " ['→' '→' '→' '→' '→' '↓' '→' '↓' '↓' '↓' '→' '→']\n",
            " ['→' '→' '→' '→' '→' '→' '→' '→' '←' '→' '→' '↓']\n",
            " ['↑' '←' '←' '←' '←' '←' '←' '←' '←' '←' '←' 'X']]\n",
            "\n"
          ]
        },
        {
          "output_type": "stream",
          "name": "stderr",
          "text": [
            " 21%|██        | 1051/5000 [03:41<13:26,  4.90it/s]"
          ]
        },
        {
          "output_type": "stream",
          "name": "stdout",
          "text": [
            "\n",
            "\n",
            "[['↓' '↓' '→' '→' '↓' '→' '↓' '↑' '→' '↓' '↓' '↓']\n",
            " ['↓' '↓' '↓' '↓' '↓' '→' '→' '→' '↓' '↓' '↓' '↓']\n",
            " ['→' '↑' '↑' '↑' '↑' '↑' '↑' '↑' '↑' '↑' '↑' '→']\n",
            " ['↑' '←' '←' '←' '←' '←' '←' '←' '←' '←' '←' 'X']]\n",
            "\n"
          ]
        },
        {
          "output_type": "stream",
          "name": "stderr",
          "text": [
            " 22%|██▏       | 1102/5000 [03:50<09:03,  7.17it/s]"
          ]
        },
        {
          "output_type": "stream",
          "name": "stdout",
          "text": [
            "\n",
            "\n",
            "[['↓' '↓' '↓' '↓' '↓' '↓' '↓' '↓' '↓' '↓' '↓' '↓']\n",
            " ['↓' '↓' '↓' '↓' '→' '↓' '↓' '↓' '↓' '→' '↓' '↓']\n",
            " ['↓' '←' '←' '←' '←' '←' '←' '←' '←' '←' '←' '↓']\n",
            " ['↑' '←' '←' '←' '←' '←' '←' '←' '←' '←' '←' 'X']]\n",
            "\n"
          ]
        },
        {
          "output_type": "stream",
          "name": "stderr",
          "text": [
            " 23%|██▎       | 1151/5000 [03:59<09:26,  6.80it/s]"
          ]
        },
        {
          "output_type": "stream",
          "name": "stdout",
          "text": [
            "\n",
            "\n",
            "[['↓' '↓' '↓' '↓' '↓' '→' '↓' '↓' '↓' '↓' '↓' '↓']\n",
            " ['↓' '↓' '↓' '↓' '↓' '↓' '↓' '→' '↓' '↓' '→' '↓']\n",
            " ['↓' '→' '→' '→' '→' '→' '→' '→' '→' '→' '→' '↓']\n",
            " ['↑' '←' '←' '←' '←' '←' '←' '←' '←' '←' '←' 'X']]\n",
            "\n"
          ]
        },
        {
          "output_type": "stream",
          "name": "stderr",
          "text": [
            " 24%|██▍       | 1201/5000 [04:07<07:33,  8.38it/s]"
          ]
        },
        {
          "output_type": "stream",
          "name": "stdout",
          "text": [
            "\n",
            "\n",
            "[['↓' '↓' '↓' '↓' '↓' '↓' '↓' '↓' '←' '←' '↓' '←']\n",
            " ['↓' '↓' '↓' '←' '↓' '↓' '↓' '←' '↓' '↓' '←' '↓']\n",
            " ['↓' '←' '←' '←' '←' '←' '←' '←' '←' '←' '←' '↓']\n",
            " ['↑' '←' '←' '←' '←' '←' '←' '←' '←' '←' '←' 'X']]\n",
            "\n"
          ]
        },
        {
          "output_type": "stream",
          "name": "stderr",
          "text": [
            " 25%|██▌       | 1250/5000 [04:15<10:42,  5.83it/s]"
          ]
        },
        {
          "output_type": "stream",
          "name": "stdout",
          "text": [
            "\n",
            "\n",
            "[['→' '→' '↓' '↓' '→' '↓' '↓' '→' '→' '→' '↓' '→']\n",
            " ['↓' '↓' '→' '↓' '→' '→' '↓' '↓' '→' '→' '↓' '↓']\n",
            " ['→' '→' '→' '→' '→' '→' '→' '→' '→' '→' '→' '↓']\n",
            " ['↑' '←' '←' '←' '←' '←' '←' '←' '←' '←' '←' 'X']]\n",
            "\n"
          ]
        },
        {
          "output_type": "stream",
          "name": "stderr",
          "text": [
            " 26%|██▌       | 1300/5000 [04:25<09:01,  6.83it/s]"
          ]
        },
        {
          "output_type": "stream",
          "name": "stdout",
          "text": [
            "\n",
            "\n",
            "[['→' '→' '↓' '↓' '↓' '→' '→' '→' '→' '↓' '↓' '→']\n",
            " ['→' '↓' '→' '↓' '→' '→' '→' '→' '↓' '→' '→' '↓']\n",
            " ['→' '↑' '↑' '→' '↑' '↑' '↑' '↑' '↑' '↑' '↑' '↓']\n",
            " ['↑' '←' '←' '←' '←' '←' '←' '←' '←' '←' '←' 'X']]\n",
            "\n"
          ]
        },
        {
          "output_type": "stream",
          "name": "stderr",
          "text": [
            " 27%|██▋       | 1352/5000 [04:34<08:06,  7.49it/s]"
          ]
        },
        {
          "output_type": "stream",
          "name": "stdout",
          "text": [
            "\n",
            "\n",
            "[['→' '→' '→' '→' '↓' '→' '→' '→' '→' '↓' '→' '→']\n",
            " ['→' '→' '→' '→' '→' '→' '→' '→' '→' '→' '↓' '→']\n",
            " ['→' '→' '→' '→' '→' '→' '→' '→' '→' '→' '→' '→']\n",
            " ['↑' '←' '←' '←' '←' '←' '←' '←' '←' '←' '←' 'X']]\n",
            "\n"
          ]
        },
        {
          "output_type": "stream",
          "name": "stderr",
          "text": [
            " 28%|██▊       | 1401/5000 [04:44<10:51,  5.52it/s]"
          ]
        },
        {
          "output_type": "stream",
          "name": "stdout",
          "text": [
            "\n",
            "\n",
            "[['→' '→' '↓' '↓' '→' '↓' '→' '↓' '→' '↓' '→' '↓']\n",
            " ['→' '→' '↓' '↓' '↓' '↓' '↓' '→' '↓' '↓' '↓' '↓']\n",
            " ['↓' '→' '↑' '→' '→' '→' '→' '↑' '↑' '↑' '↑' '↓']\n",
            " ['↑' '←' '←' '←' '←' '←' '←' '←' '←' '←' '←' 'X']]\n",
            "\n"
          ]
        },
        {
          "output_type": "stream",
          "name": "stderr",
          "text": [
            " 29%|██▉       | 1450/5000 [04:53<11:58,  4.94it/s]"
          ]
        },
        {
          "output_type": "stream",
          "name": "stdout",
          "text": [
            "\n",
            "\n",
            "[['→' '→' '→' '→' '↓' '→' '→' '→' '↓' '→' '→' '→']\n",
            " ['→' '→' '→' '↓' '→' '→' '→' '↓' '↓' '→' '↓' '→']\n",
            " ['→' '→' '↑' '↑' '↑' '↑' '↑' '↑' '↑' '↑' '↑' '↓']\n",
            " ['↑' '←' '←' '←' '←' '←' '←' '←' '←' '←' '←' 'X']]\n",
            "\n"
          ]
        },
        {
          "output_type": "stream",
          "name": "stderr",
          "text": [
            " 30%|███       | 1500/5000 [05:05<15:11,  3.84it/s]"
          ]
        },
        {
          "output_type": "stream",
          "name": "stdout",
          "text": [
            "\n",
            "\n",
            "[['↓' '↓' '↓' '↓' '↓' '↓' '↓' '↑' '↑' '↓' '↓' '↓']\n",
            " ['↓' '↓' '↓' '↓' '↓' '↓' '↓' '↑' '↓' '↑' '↓' '↓']\n",
            " ['↓' '↑' '↑' '↑' '↑' '↑' '↑' '↑' '↑' '↑' '↑' '↓']\n",
            " ['↑' '←' '←' '←' '←' '←' '←' '←' '←' '←' '←' 'X']]\n",
            "\n"
          ]
        },
        {
          "output_type": "stream",
          "name": "stderr",
          "text": [
            " 31%|███       | 1550/5000 [05:15<23:30,  2.45it/s]"
          ]
        },
        {
          "output_type": "stream",
          "name": "stdout",
          "text": [
            "\n",
            "\n",
            "[['←' '←' '←' '←' '↓' '←' '↓' '↓' '←' '↓' '↓' '→']\n",
            " ['←' '↓' '←' '↓' '↓' '→' '→' '←' '↓' '→' '↓' '↓']\n",
            " ['←' '←' '←' '→' '←' '→' '←' '←' '→' '←' '→' '←']\n",
            " ['↑' '←' '←' '←' '←' '←' '←' '←' '←' '←' '←' 'X']]\n",
            "\n"
          ]
        },
        {
          "output_type": "stream",
          "name": "stderr",
          "text": [
            " 32%|███▏      | 1600/5000 [05:27<16:22,  3.46it/s]"
          ]
        },
        {
          "output_type": "stream",
          "name": "stdout",
          "text": [
            "\n",
            "\n",
            "[['↓' '↓' '↓' '→' '→' '↓' '→' '→' '→' '→' '↓' '→']\n",
            " ['↓' '→' '↓' '↓' '↓' '↓' '→' '→' '↓' '↓' '→' '↓']\n",
            " ['↓' '→' '→' '→' '→' '→' '→' '→' '↑' '→' '→' '↓']\n",
            " ['↑' '←' '←' '←' '←' '←' '←' '←' '←' '←' '←' 'X']]\n",
            "\n"
          ]
        },
        {
          "output_type": "stream",
          "name": "stderr",
          "text": [
            " 33%|███▎      | 1651/5000 [05:40<12:20,  4.52it/s]"
          ]
        },
        {
          "output_type": "stream",
          "name": "stdout",
          "text": [
            "\n",
            "\n",
            "[['↓' '→' '→' '↓' '→' '↓' '↓' '→' '↓' '→' '→' '↓']\n",
            " ['↓' '↓' '→' '↓' '↓' '→' '↓' '→' '→' '→' '→' '↓']\n",
            " ['↓' '→' '→' '→' '→' '↑' '→' '→' '→' '↑' '→' '↓']\n",
            " ['↑' '←' '←' '←' '←' '←' '←' '←' '←' '←' '←' 'X']]\n",
            "\n"
          ]
        },
        {
          "output_type": "stream",
          "name": "stderr",
          "text": [
            " 34%|███▍      | 1700/5000 [05:48<08:08,  6.75it/s]"
          ]
        },
        {
          "output_type": "stream",
          "name": "stdout",
          "text": [
            "\n",
            "\n",
            "[['→' '↑' '→' '→' '→' '↑' '↑' '↑' '↑' '→' '↑' '↑']\n",
            " ['→' '↑' '→' '↑' '↑' '↑' '↑' '↑' '↑' '→' '↑' '↑']\n",
            " ['→' '↑' '↑' '↑' '↑' '↑' '↑' '↑' '↑' '↑' '↑' '→']\n",
            " ['↑' '←' '←' '←' '←' '←' '←' '←' '←' '←' '←' 'X']]\n",
            "\n"
          ]
        },
        {
          "output_type": "stream",
          "name": "stderr",
          "text": [
            " 35%|███▍      | 1749/5000 [05:58<10:39,  5.08it/s]"
          ]
        },
        {
          "output_type": "stream",
          "name": "stdout",
          "text": [
            "\n",
            "\n",
            "[['→' '↓' '↓' '→' '→' '↓' '↓' '↓' '↓' '→' '↓' '→']\n",
            " ['↓' '→' '→' '↓' '↓' '↓' '→' '→' '→' '→' '↓' '→']\n",
            " ['→' '→' '→' '→' '→' '→' '→' '→' '→' '→' '→' '↓']\n",
            " ['↑' '←' '←' '←' '←' '←' '←' '←' '←' '←' '←' 'X']]\n",
            "\n"
          ]
        },
        {
          "output_type": "stream",
          "name": "stderr",
          "text": [
            " 36%|███▌      | 1801/5000 [06:09<08:32,  6.25it/s]"
          ]
        },
        {
          "output_type": "stream",
          "name": "stdout",
          "text": [
            "\n",
            "\n",
            "[['→' '→' '→' '→' '→' '→' '→' '→' '←' '→' '→' '→']\n",
            " ['→' '→' '→' '→' '→' '→' '→' '→' '→' '←' '←' '→']\n",
            " ['→' '→' '→' '→' '→' '→' '→' '→' '→' '→' '→' '←']\n",
            " ['↑' '←' '←' '←' '←' '←' '←' '←' '←' '←' '←' 'X']]\n",
            "\n"
          ]
        },
        {
          "output_type": "stream",
          "name": "stderr",
          "text": [
            " 37%|███▋      | 1850/5000 [06:18<10:15,  5.12it/s]"
          ]
        },
        {
          "output_type": "stream",
          "name": "stdout",
          "text": [
            "\n",
            "\n",
            "[['→' '→' '→' '→' '→' '→' '→' '→' '→' '→' '→' '→']\n",
            " ['→' '→' '→' '→' '→' '→' '→' '→' '→' '→' '→' '→']\n",
            " ['→' '→' '→' '→' '→' '→' '→' '→' '→' '→' '→' '↑']\n",
            " ['↑' '←' '←' '←' '←' '←' '←' '←' '←' '←' '←' 'X']]\n",
            "\n"
          ]
        },
        {
          "output_type": "stream",
          "name": "stderr",
          "text": [
            " 38%|███▊      | 1899/5000 [06:28<10:41,  4.83it/s]"
          ]
        },
        {
          "output_type": "stream",
          "name": "stdout",
          "text": [
            "\n",
            "\n",
            "[['→' '↓' '→' '→' '↓' '↓' '→' '→' '→' '→' '→' '→']\n",
            " ['→' '→' '→' '→' '→' '→' '→' '↓' '→' '→' '→' '→']\n",
            " ['→' '→' '→' '→' '→' '→' '→' '→' '→' '→' '→' '→']\n",
            " ['↑' '←' '←' '←' '←' '←' '←' '←' '←' '←' '←' 'X']]\n",
            "\n"
          ]
        },
        {
          "output_type": "stream",
          "name": "stderr",
          "text": [
            " 39%|███▉      | 1951/5000 [06:39<07:47,  6.52it/s]"
          ]
        },
        {
          "output_type": "stream",
          "name": "stdout",
          "text": [
            "\n",
            "\n",
            "[['↓' '↓' '↓' '↓' '↓' '↓' '↓' '↓' '↓' '↓' '↓' '↓']\n",
            " ['↓' '↓' '↓' '↓' '↓' '↓' '↓' '↓' '↓' '↓' '↓' '↓']\n",
            " ['↓' '↑' '↑' '↑' '↑' '↑' '↑' '↑' '↑' '↑' '↑' '↓']\n",
            " ['↑' '←' '←' '←' '←' '←' '←' '←' '←' '←' '←' 'X']]\n",
            "\n"
          ]
        },
        {
          "output_type": "stream",
          "name": "stderr",
          "text": [
            " 40%|████      | 2000/5000 [06:49<11:08,  4.49it/s]"
          ]
        },
        {
          "output_type": "stream",
          "name": "stdout",
          "text": [
            "\n",
            "\n",
            "[['→' '→' '→' '→' '→' '→' '→' '→' '→' '→' '→' '→']\n",
            " ['→' '→' '→' '→' '→' '↓' '→' '→' '→' '↓' '↓' '→']\n",
            " ['→' '→' '→' '→' '→' '→' '→' '→' '→' '↑' '→' '→']\n",
            " ['↑' '←' '←' '←' '←' '←' '←' '←' '←' '←' '←' 'X']]\n",
            "\n"
          ]
        },
        {
          "output_type": "stream",
          "name": "stderr",
          "text": [
            " 41%|████      | 2051/5000 [07:02<07:54,  6.22it/s]"
          ]
        },
        {
          "output_type": "stream",
          "name": "stdout",
          "text": [
            "\n",
            "\n",
            "[['→' '→' '→' '↓' '→' '→' '→' '→' '→' '↓' '→' '→']\n",
            " ['→' '→' '→' '→' '→' '→' '→' '↓' '↓' '↓' '→' '↓']\n",
            " ['→' '→' '→' '→' '→' '→' '→' '→' '→' '→' '→' '→']\n",
            " ['↑' '←' '←' '←' '←' '←' '←' '←' '←' '←' '←' 'X']]\n",
            "\n"
          ]
        },
        {
          "output_type": "stream",
          "name": "stderr",
          "text": [
            " 42%|████▏     | 2101/5000 [07:13<08:53,  5.44it/s]"
          ]
        },
        {
          "output_type": "stream",
          "name": "stdout",
          "text": [
            "\n",
            "\n",
            "[['↓' '↓' '→' '↓' '↓' '↓' '↓' '↓' '↓' '→' '↓' '↓']\n",
            " ['↓' '↓' '↓' '↓' '↓' '↓' '↓' '↓' '↓' '↓' '↓' '↓']\n",
            " ['↓' '↑' '↑' '↑' '↑' '↑' '↑' '↑' '↑' '↑' '↑' '↓']\n",
            " ['↑' '←' '←' '←' '←' '←' '←' '←' '←' '←' '←' 'X']]\n",
            "\n"
          ]
        },
        {
          "output_type": "stream",
          "name": "stderr",
          "text": [
            " 43%|████▎     | 2150/5000 [07:25<19:25,  2.45it/s]"
          ]
        },
        {
          "output_type": "stream",
          "name": "stdout",
          "text": [
            "\n",
            "\n",
            "[['↓' '↓' '↓' '↓' '↓' '↓' '↓' '↓' '↓' '↓' '↓' '↓']\n",
            " ['↓' '↓' '↓' '↓' '↓' '↓' '↓' '↓' '↓' '↓' '↓' '↓']\n",
            " ['↓' '↑' '↑' '↑' '↑' '↑' '↑' '↑' '↑' '→' '↑' '↓']\n",
            " ['↑' '←' '←' '←' '←' '←' '←' '←' '←' '←' '←' 'X']]\n",
            "\n"
          ]
        },
        {
          "output_type": "stream",
          "name": "stderr",
          "text": [
            " 44%|████▍     | 2201/5000 [07:35<08:11,  5.69it/s]"
          ]
        },
        {
          "output_type": "stream",
          "name": "stdout",
          "text": [
            "\n",
            "\n",
            "[['→' '→' '→' '→' '↓' '→' '→' '→' '→' '→' '→' '→']\n",
            " ['→' '→' '→' '→' '→' '→' '↓' '→' '↓' '→' '→' '→']\n",
            " ['→' '→' '→' '↑' '↑' '→' '↑' '↑' '↑' '↑' '→' '↓']\n",
            " ['↑' '←' '←' '←' '←' '←' '←' '←' '←' '←' '←' 'X']]\n",
            "\n"
          ]
        },
        {
          "output_type": "stream",
          "name": "stderr",
          "text": [
            " 45%|████▍     | 2249/5000 [07:47<11:12,  4.09it/s]"
          ]
        },
        {
          "output_type": "stream",
          "name": "stdout",
          "text": [
            "\n",
            "\n",
            "[['→' '→' '→' '↓' '→' '↓' '→' '→' '↓' '↓' '→' '↓']\n",
            " ['↓' '→' '↓' '↓' '↓' '↓' '↓' '→' '↓' '→' '→' '↓']\n",
            " ['↓' '→' '→' '→' '→' '→' '→' '→' '→' '→' '→' '↓']\n",
            " ['↑' '←' '←' '←' '←' '←' '←' '←' '←' '←' '←' 'X']]\n",
            "\n"
          ]
        },
        {
          "output_type": "stream",
          "name": "stderr",
          "text": [
            " 46%|████▌     | 2300/5000 [07:56<05:45,  7.81it/s]"
          ]
        },
        {
          "output_type": "stream",
          "name": "stdout",
          "text": [
            "\n",
            "\n",
            "[['→' '→' '→' '↑' '→' '→' '→' '→' '→' '→' '→' '↑']\n",
            " ['→' '→' '→' '→' '→' '→' '→' '→' '↑' '→' '→' '→']\n",
            " ['→' '→' '→' '→' '→' '→' '→' '→' '→' '→' '→' '→']\n",
            " ['↑' '←' '←' '←' '←' '←' '←' '←' '←' '←' '←' 'X']]\n",
            "\n"
          ]
        },
        {
          "output_type": "stream",
          "name": "stderr",
          "text": [
            " 47%|████▋     | 2351/5000 [08:05<09:31,  4.64it/s]"
          ]
        },
        {
          "output_type": "stream",
          "name": "stdout",
          "text": [
            "\n",
            "\n",
            "[['↓' '↓' '↓' '↓' '↓' '↓' '↓' '↓' '↓' '↓' '↓' '↓']\n",
            " ['↓' '↓' '↓' '↓' '↓' '↓' '↓' '↓' '↓' '↓' '↓' '↓']\n",
            " ['↓' '←' '←' '→' '←' '←' '←' '→' '→' '←' '←' '↓']\n",
            " ['↑' '←' '←' '←' '←' '←' '←' '←' '←' '←' '←' 'X']]\n",
            "\n"
          ]
        },
        {
          "output_type": "stream",
          "name": "stderr",
          "text": [
            " 48%|████▊     | 2401/5000 [08:15<08:09,  5.30it/s]"
          ]
        },
        {
          "output_type": "stream",
          "name": "stdout",
          "text": [
            "\n",
            "\n",
            "[['→' '→' '→' '→' '→' '↓' '→' '→' '→' '↓' '→' '→']\n",
            " ['→' '→' '→' '↓' '↓' '→' '↓' '→' '→' '→' '→' '→']\n",
            " ['→' '→' '↑' '→' '→' '→' '→' '→' '↑' '→' '→' '→']\n",
            " ['↑' '←' '←' '←' '←' '←' '←' '←' '←' '←' '←' 'X']]\n",
            "\n"
          ]
        },
        {
          "output_type": "stream",
          "name": "stderr",
          "text": [
            " 49%|████▉     | 2450/5000 [08:26<07:38,  5.56it/s]"
          ]
        },
        {
          "output_type": "stream",
          "name": "stdout",
          "text": [
            "\n",
            "\n",
            "[['→' '↓' '→' '→' '→' '↓' '→' '↓' '→' '↓' '↓' '→']\n",
            " ['↓' '→' '→' '↓' '↓' '→' '↓' '→' '→' '→' '→' '↓']\n",
            " ['→' '→' '→' '→' '→' '→' '→' '→' '→' '→' '→' '→']\n",
            " ['↑' '←' '←' '←' '←' '←' '←' '←' '←' '←' '←' 'X']]\n",
            "\n"
          ]
        },
        {
          "output_type": "stream",
          "name": "stderr",
          "text": [
            " 50%|█████     | 2500/5000 [08:40<10:38,  3.91it/s]"
          ]
        },
        {
          "output_type": "stream",
          "name": "stdout",
          "text": [
            "\n",
            "\n",
            "[['↓' '↓' '↓' '↓' '↓' '→' '↓' '→' '→' '↓' '↓' '↓']\n",
            " ['↓' '↓' '→' '→' '→' '↓' '→' '↓' '→' '↓' '↓' '↓']\n",
            " ['↓' '→' '→' '→' '→' '→' '→' '→' '→' '→' '→' '→']\n",
            " ['↑' '←' '←' '←' '←' '←' '←' '←' '←' '←' '←' 'X']]\n",
            "\n"
          ]
        },
        {
          "output_type": "stream",
          "name": "stderr",
          "text": [
            " 51%|█████     | 2551/5000 [08:54<08:08,  5.02it/s]"
          ]
        },
        {
          "output_type": "stream",
          "name": "stdout",
          "text": [
            "\n",
            "\n",
            "[['→' '→' '→' '→' '→' '→' '→' '→' '→' '↓' '↓' '→']\n",
            " ['→' '→' '→' '→' '→' '→' '→' '→' '→' '→' '→' '→']\n",
            " ['→' '→' '→' '→' '→' '→' '→' '↑' '→' '→' '→' '→']\n",
            " ['↑' '←' '←' '←' '←' '←' '←' '←' '←' '←' '←' 'X']]\n",
            "\n"
          ]
        },
        {
          "output_type": "stream",
          "name": "stderr",
          "text": [
            " 52%|█████▏    | 2601/5000 [09:05<08:49,  4.53it/s]"
          ]
        },
        {
          "output_type": "stream",
          "name": "stdout",
          "text": [
            "\n",
            "\n",
            "[['→' '→' '↓' '→' '→' '→' '→' '↓' '↓' '→' '→' '→']\n",
            " ['↓' '→' '→' '↓' '↓' '↓' '↓' '↓' '↓' '→' '↓' '→']\n",
            " ['↓' '↑' '→' '→' '→' '↑' '→' '↑' '↑' '↑' '→' '→']\n",
            " ['↑' '←' '←' '←' '←' '←' '←' '←' '←' '←' '←' 'X']]\n",
            "\n"
          ]
        },
        {
          "output_type": "stream",
          "name": "stderr",
          "text": [
            " 53%|█████▎    | 2650/5000 [09:18<10:34,  3.70it/s]"
          ]
        },
        {
          "output_type": "stream",
          "name": "stdout",
          "text": [
            "\n",
            "\n",
            "[['↓' '↓' '↓' '↓' '↓' '↓' '↓' '↓' '↓' '↓' '↓' '↓']\n",
            " ['↓' '↓' '→' '↓' '↓' '↓' '↓' '↓' '↓' '↓' '↓' '↓']\n",
            " ['↓' '→' '↑' '↑' '↑' '↑' '↑' '↑' '↑' '↑' '→' '↓']\n",
            " ['↑' '←' '←' '←' '←' '←' '←' '←' '←' '←' '←' 'X']]\n",
            "\n"
          ]
        },
        {
          "output_type": "stream",
          "name": "stderr",
          "text": [
            " 54%|█████▍    | 2700/5000 [09:28<08:29,  4.52it/s]"
          ]
        },
        {
          "output_type": "stream",
          "name": "stdout",
          "text": [
            "\n",
            "\n",
            "[['→' '→' '→' '→' '→' '→' '→' '→' '→' '→' '→' '→']\n",
            " ['→' '→' '→' '→' '→' '→' '→' '↑' '→' '→' '→' '→']\n",
            " ['→' '→' '→' '→' '→' '→' '→' '→' '→' '→' '→' '→']\n",
            " ['↑' '←' '←' '←' '←' '←' '←' '←' '←' '←' '←' 'X']]\n",
            "\n"
          ]
        },
        {
          "output_type": "stream",
          "name": "stderr",
          "text": [
            " 55%|█████▌    | 2750/5000 [09:37<07:07,  5.26it/s]"
          ]
        },
        {
          "output_type": "stream",
          "name": "stdout",
          "text": [
            "\n",
            "\n",
            "[['←' '↓' '→' '←' '→' '→' '←' '←' '→' '→' '←' '←']\n",
            " ['←' '←' '→' '←' '↓' '←' '↓' '←' '←' '→' '←' '←']\n",
            " ['←' '↑' '↑' '↑' '↑' '↑' '↑' '↑' '↑' '↑' '↑' '→']\n",
            " ['↑' '←' '←' '←' '←' '←' '←' '←' '←' '←' '←' 'X']]\n",
            "\n"
          ]
        },
        {
          "output_type": "stream",
          "name": "stderr",
          "text": [
            " 56%|█████▌    | 2802/5000 [09:50<05:10,  7.07it/s]"
          ]
        },
        {
          "output_type": "stream",
          "name": "stdout",
          "text": [
            "\n",
            "\n",
            "[['→' '↓' '→' '→' '↓' '→' '→' '→' '→' '↓' '→' '→']\n",
            " ['→' '→' '→' '→' '→' '→' '→' '↓' '→' '→' '→' '→']\n",
            " ['→' '→' '→' '→' '→' '→' '→' '→' '→' '→' '→' '↓']\n",
            " ['↑' '←' '←' '←' '←' '←' '←' '←' '←' '←' '←' 'X']]\n",
            "\n"
          ]
        },
        {
          "output_type": "stream",
          "name": "stderr",
          "text": [
            " 57%|█████▋    | 2850/5000 [10:02<06:35,  5.43it/s]"
          ]
        },
        {
          "output_type": "stream",
          "name": "stdout",
          "text": [
            "\n",
            "\n",
            "[['↓' '→' '→' '↓' '→' '→' '↓' '→' '→' '→' '↓' '↓']\n",
            " ['↓' '↓' '→' '→' '→' '→' '↓' '→' '→' '→' '→' '↓']\n",
            " ['↓' '→' '→' '→' '→' '→' '→' '→' '→' '→' '→' '↓']\n",
            " ['↑' '←' '←' '←' '←' '←' '←' '←' '←' '←' '←' 'X']]\n",
            "\n"
          ]
        },
        {
          "output_type": "stream",
          "name": "stderr",
          "text": [
            " 58%|█████▊    | 2900/5000 [10:12<06:36,  5.29it/s]"
          ]
        },
        {
          "output_type": "stream",
          "name": "stdout",
          "text": [
            "\n",
            "\n",
            "[['↓' '↓' '↓' '↓' '↓' '↓' '↓' '→' '↓' '↓' '↓' '↓']\n",
            " ['↓' '↓' '↓' '↓' '↓' '↓' '↓' '↓' '↓' '↓' '↓' '↓']\n",
            " ['↓' '→' '→' '→' '→' '→' '→' '→' '→' '→' '→' '↓']\n",
            " ['↑' '←' '←' '←' '←' '←' '←' '←' '←' '←' '←' 'X']]\n",
            "\n"
          ]
        },
        {
          "output_type": "stream",
          "name": "stderr",
          "text": [
            " 59%|█████▉    | 2950/5000 [10:25<07:51,  4.35it/s]"
          ]
        },
        {
          "output_type": "stream",
          "name": "stdout",
          "text": [
            "\n",
            "\n",
            "[['↓' '↓' '→' '→' '→' '→' '→' '↓' '↓' '→' '→' '↓']\n",
            " ['↓' '↓' '→' '→' '↓' '↓' '↓' '↓' '→' '→' '→' '↓']\n",
            " ['→' '←' '←' '←' '←' '←' '←' '←' '←' '←' '←' '→']\n",
            " ['↑' '←' '←' '←' '←' '←' '←' '←' '←' '←' '←' 'X']]\n",
            "\n"
          ]
        },
        {
          "output_type": "stream",
          "name": "stderr",
          "text": [
            " 60%|██████    | 3000/5000 [10:37<08:39,  3.85it/s]"
          ]
        },
        {
          "output_type": "stream",
          "name": "stdout",
          "text": [
            "\n",
            "\n",
            "[['↓' '↓' '↓' '↓' '→' '↓' '↓' '↓' '↓' '↓' '→' '↓']\n",
            " ['↓' '↓' '↓' '↓' '↓' '↓' '↓' '↓' '↓' '↓' '↓' '↓']\n",
            " ['↓' '←' '←' '←' '←' '←' '←' '←' '←' '←' '←' '↓']\n",
            " ['↑' '←' '←' '←' '←' '←' '←' '←' '←' '←' '←' 'X']]\n",
            "\n"
          ]
        },
        {
          "output_type": "stream",
          "name": "stderr",
          "text": [
            " 61%|██████    | 3051/5000 [10:47<03:23,  9.58it/s]"
          ]
        },
        {
          "output_type": "stream",
          "name": "stdout",
          "text": [
            "\n",
            "\n",
            "[['→' '→' '→' '→' '→' '→' '→' '→' '→' '→' '→' '→']\n",
            " ['→' '→' '→' '→' '→' '→' '→' '→' '→' '→' '→' '↓']\n",
            " ['→' '←' '←' '←' '←' '←' '←' '←' '←' '←' '←' '→']\n",
            " ['↑' '←' '←' '←' '←' '←' '←' '←' '←' '←' '←' 'X']]\n",
            "\n"
          ]
        },
        {
          "output_type": "stream",
          "name": "stderr",
          "text": [
            " 62%|██████▏   | 3100/5000 [10:59<05:59,  5.29it/s]"
          ]
        },
        {
          "output_type": "stream",
          "name": "stdout",
          "text": [
            "\n",
            "\n",
            "[['→' '→' '↓' '↓' '↓' '↓' '↓' '↓' '→' '→' '→' '↓']\n",
            " ['→' '↓' '↓' '↓' '↓' '→' '↓' '→' '→' '→' '→' '↓']\n",
            " ['↓' '→' '→' '→' '→' '→' '→' '→' '→' '→' '→' '↓']\n",
            " ['↑' '←' '←' '←' '←' '←' '←' '←' '←' '←' '←' 'X']]\n",
            "\n"
          ]
        },
        {
          "output_type": "stream",
          "name": "stderr",
          "text": [
            " 63%|██████▎   | 3150/5000 [11:10<10:36,  2.91it/s]"
          ]
        },
        {
          "output_type": "stream",
          "name": "stdout",
          "text": [
            "\n",
            "\n",
            "[['→' '→' '↓' '↓' '→' '↓' '↓' '→' '↓' '↓' '↓' '→']\n",
            " ['→' '→' '→' '→' '↓' '→' '→' '→' '→' '↓' '→' '↓']\n",
            " ['→' '←' '←' '→' '←' '←' '→' '←' '←' '→' '→' '↓']\n",
            " ['↑' '←' '←' '←' '←' '←' '←' '←' '←' '←' '←' 'X']]\n",
            "\n"
          ]
        },
        {
          "output_type": "stream",
          "name": "stderr",
          "text": [
            " 64%|██████▍   | 3201/5000 [11:21<06:22,  4.70it/s]"
          ]
        },
        {
          "output_type": "stream",
          "name": "stdout",
          "text": [
            "\n",
            "\n",
            "[['↓' '→' '↓' '→' '→' '→' '↓' '→' '→' '→' '→' '→']\n",
            " ['→' '→' '→' '↓' '→' '↓' '→' '→' '→' '→' '→' '→']\n",
            " ['→' '↑' '↑' '↑' '↑' '↑' '↑' '↑' '↑' '↑' '↑' '→']\n",
            " ['↑' '←' '←' '←' '←' '←' '←' '←' '←' '←' '←' 'X']]\n",
            "\n"
          ]
        },
        {
          "output_type": "stream",
          "name": "stderr",
          "text": [
            " 65%|██████▌   | 3250/5000 [11:34<07:53,  3.70it/s]"
          ]
        },
        {
          "output_type": "stream",
          "name": "stdout",
          "text": [
            "\n",
            "\n",
            "[['→' '→' '→' '→' '→' '→' '→' '→' '→' '→' '→' '→']\n",
            " ['→' '→' '→' '→' '→' '→' '→' '→' '→' '→' '→' '→']\n",
            " ['→' '↑' '→' '↑' '↑' '→' '→' '↑' '↑' '→' '↑' '→']\n",
            " ['↑' '←' '←' '←' '←' '←' '←' '←' '←' '←' '←' 'X']]\n",
            "\n"
          ]
        },
        {
          "output_type": "stream",
          "name": "stderr",
          "text": [
            " 66%|██████▌   | 3301/5000 [11:44<03:46,  7.49it/s]"
          ]
        },
        {
          "output_type": "stream",
          "name": "stdout",
          "text": [
            "\n",
            "\n",
            "[['→' '→' '→' '→' '→' '→' '→' '→' '→' '→' '→' '→']\n",
            " ['→' '→' '→' '→' '→' '→' '→' '→' '→' '→' '→' '→']\n",
            " ['→' '→' '→' '→' '→' '→' '→' '→' '→' '→' '→' '→']\n",
            " ['↑' '←' '←' '←' '←' '←' '←' '←' '←' '←' '←' 'X']]\n",
            "\n"
          ]
        },
        {
          "output_type": "stream",
          "name": "stderr",
          "text": [
            " 67%|██████▋   | 3351/5000 [11:55<05:44,  4.78it/s]"
          ]
        },
        {
          "output_type": "stream",
          "name": "stdout",
          "text": [
            "\n",
            "\n",
            "[['→' '→' '→' '→' '→' '→' '→' '→' '→' '→' '→' '↓']\n",
            " ['→' '→' '→' '↓' '↓' '→' '→' '↓' '→' '→' '→' '→']\n",
            " ['→' '↑' '↑' '↑' '↑' '↑' '↑' '↑' '↑' '↑' '↑' '→']\n",
            " ['↑' '←' '←' '←' '←' '←' '←' '←' '←' '←' '←' 'X']]\n",
            "\n"
          ]
        },
        {
          "output_type": "stream",
          "name": "stderr",
          "text": [
            " 68%|██████▊   | 3401/5000 [12:04<04:10,  6.38it/s]"
          ]
        },
        {
          "output_type": "stream",
          "name": "stdout",
          "text": [
            "\n",
            "\n",
            "[['→' '→' '→' '→' '→' '→' '→' '→' '→' '→' '→' '→']\n",
            " ['→' '→' '→' '→' '→' '→' '→' '→' '→' '→' '→' '→']\n",
            " ['→' '→' '→' '→' '→' '↑' '↑' '→' '↑' '→' '→' '→']\n",
            " ['↑' '←' '←' '←' '←' '←' '←' '←' '←' '←' '←' 'X']]\n",
            "\n"
          ]
        },
        {
          "output_type": "stream",
          "name": "stderr",
          "text": [
            " 69%|██████▉   | 3450/5000 [12:16<04:41,  5.51it/s]"
          ]
        },
        {
          "output_type": "stream",
          "name": "stdout",
          "text": [
            "\n",
            "\n",
            "[['↓' '↓' '↓' '↓' '↓' '↓' '↓' '↓' '↓' '↓' '↓' '↓']\n",
            " ['↓' '↓' '↓' '↓' '↓' '↓' '↓' '↓' '↓' '↓' '↓' '↓']\n",
            " ['↓' '↑' '→' '↑' '→' '↑' '↑' '→' '↑' '↑' '→' '↓']\n",
            " ['↑' '←' '←' '←' '←' '←' '←' '←' '←' '←' '←' 'X']]\n",
            "\n"
          ]
        },
        {
          "output_type": "stream",
          "name": "stderr",
          "text": [
            " 70%|██████▉   | 3499/5000 [12:27<03:21,  7.44it/s]"
          ]
        },
        {
          "output_type": "stream",
          "name": "stdout",
          "text": [
            "\n",
            "\n",
            "[['→' '→' '→' '→' '→' '→' '→' '→' '→' '→' '→' '→']\n",
            " ['→' '→' '→' '→' '→' '↓' '→' '↓' '→' '→' '→' '→']\n",
            " ['→' '→' '→' '→' '→' '→' '→' '→' '→' '→' '→' '→']\n",
            " ['↑' '←' '←' '←' '←' '←' '←' '←' '←' '←' '←' 'X']]\n",
            "\n"
          ]
        },
        {
          "output_type": "stream",
          "name": "stderr",
          "text": [
            " 71%|███████   | 3549/5000 [12:38<05:49,  4.16it/s]"
          ]
        },
        {
          "output_type": "stream",
          "name": "stdout",
          "text": [
            "\n",
            "\n",
            "[['→' '→' '→' '→' '→' '→' '→' '→' '→' '→' '→' '→']\n",
            " ['→' '→' '→' '→' '→' '→' '→' '→' '→' '→' '→' '→']\n",
            " ['→' '←' '←' '←' '→' '←' '←' '←' '←' '←' '←' '→']\n",
            " ['↑' '←' '←' '←' '←' '←' '←' '←' '←' '←' '←' 'X']]\n",
            "\n"
          ]
        },
        {
          "output_type": "stream",
          "name": "stderr",
          "text": [
            " 72%|███████▏  | 3601/5000 [12:47<04:14,  5.51it/s]"
          ]
        },
        {
          "output_type": "stream",
          "name": "stdout",
          "text": [
            "\n",
            "\n",
            "[['→' '↑' '→' '→' '→' '→' '→' '→' '→' '→' '→' '→']\n",
            " ['→' '→' '→' '→' '→' '→' '→' '→' '→' '→' '↑' '→']\n",
            " ['→' '↑' '↑' '↑' '↑' '↑' '↑' '↑' '↑' '↑' '↑' '→']\n",
            " ['↑' '←' '←' '←' '←' '←' '←' '←' '←' '←' '←' 'X']]\n",
            "\n"
          ]
        },
        {
          "output_type": "stream",
          "name": "stderr",
          "text": [
            " 73%|███████▎  | 3653/5000 [12:59<02:31,  8.92it/s]"
          ]
        },
        {
          "output_type": "stream",
          "name": "stdout",
          "text": [
            "\n",
            "\n",
            "[['↓' '↓' '↓' '↓' '↓' '↓' '↓' '↓' '↓' '↓' '↓' '↓']\n",
            " ['↓' '↓' '↓' '↓' '↓' '↓' '↓' '↓' '↓' '↓' '↓' '↓']\n",
            " ['↓' '↑' '↑' '↑' '↑' '↑' '→' '→' '↑' '→' '→' '↓']\n",
            " ['↑' '←' '←' '←' '←' '←' '←' '←' '←' '←' '←' 'X']]\n",
            "\n"
          ]
        },
        {
          "output_type": "stream",
          "name": "stderr",
          "text": [
            " 74%|███████▍  | 3702/5000 [13:09<03:15,  6.63it/s]"
          ]
        },
        {
          "output_type": "stream",
          "name": "stdout",
          "text": [
            "\n",
            "\n",
            "[['→' '→' '→' '→' '→' '→' '→' '→' '↓' '→' '→' '→']\n",
            " ['→' '→' '→' '→' '→' '→' '→' '→' '→' '→' '→' '→']\n",
            " ['→' '→' '→' '→' '→' '→' '→' '→' '→' '→' '→' '→']\n",
            " ['↑' '←' '←' '←' '←' '←' '←' '←' '←' '←' '←' 'X']]\n",
            "\n"
          ]
        },
        {
          "output_type": "stream",
          "name": "stderr",
          "text": [
            " 75%|███████▌  | 3751/5000 [13:17<03:18,  6.29it/s]"
          ]
        },
        {
          "output_type": "stream",
          "name": "stdout",
          "text": [
            "\n",
            "\n",
            "[['→' '→' '→' '→' '→' '→' '→' '→' '→' '→' '→' '→']\n",
            " ['→' '→' '→' '→' '→' '→' '→' '←' '→' '→' '→' '→']\n",
            " ['→' '→' '→' '→' '→' '→' '→' '→' '→' '→' '→' '→']\n",
            " ['↑' '←' '←' '←' '←' '←' '←' '←' '←' '←' '←' 'X']]\n",
            "\n"
          ]
        },
        {
          "output_type": "stream",
          "name": "stderr",
          "text": [
            " 76%|███████▌  | 3799/5000 [13:29<05:05,  3.93it/s]"
          ]
        },
        {
          "output_type": "stream",
          "name": "stdout",
          "text": [
            "\n",
            "\n",
            "[['↓' '↓' '↓' '↓' '↓' '↓' '↓' '↓' '↓' '↓' '↓' '↓']\n",
            " ['↓' '↓' '↓' '↓' '↓' '↓' '↓' '↓' '↓' '↓' '↓' '↓']\n",
            " ['↓' '←' '←' '←' '←' '←' '←' '←' '←' '→' '←' '↓']\n",
            " ['↑' '←' '←' '←' '←' '←' '←' '←' '←' '←' '←' 'X']]\n",
            "\n"
          ]
        },
        {
          "output_type": "stream",
          "name": "stderr",
          "text": [
            " 77%|███████▋  | 3850/5000 [13:40<05:03,  3.79it/s]"
          ]
        },
        {
          "output_type": "stream",
          "name": "stdout",
          "text": [
            "\n",
            "\n",
            "[['↓' '↓' '↓' '↓' '↓' '↓' '↓' '→' '↓' '↓' '↓' '↓']\n",
            " ['→' '↓' '↓' '↓' '↓' '↓' '↓' '↓' '↓' '↓' '↓' '↓']\n",
            " ['↓' '→' '→' '→' '→' '→' '→' '→' '→' '→' '→' '↓']\n",
            " ['↑' '←' '←' '←' '←' '←' '←' '←' '←' '←' '←' 'X']]\n",
            "\n"
          ]
        },
        {
          "output_type": "stream",
          "name": "stderr",
          "text": [
            " 78%|███████▊  | 3900/5000 [13:50<02:56,  6.24it/s]"
          ]
        },
        {
          "output_type": "stream",
          "name": "stdout",
          "text": [
            "\n",
            "\n",
            "[['↓' '↓' '↓' '↓' '↓' '↓' '↓' '→' '↓' '↓' '↓' '↓']\n",
            " ['↓' '↓' '↓' '↓' '↓' '↓' '↓' '↓' '↓' '↓' '↓' '↓']\n",
            " ['↓' '←' '←' '←' '←' '←' '←' '←' '←' '←' '←' '↓']\n",
            " ['↑' '←' '←' '←' '←' '←' '←' '←' '←' '←' '←' 'X']]\n",
            "\n"
          ]
        },
        {
          "output_type": "stream",
          "name": "stderr",
          "text": [
            " 79%|███████▉  | 3950/5000 [13:59<01:42, 10.25it/s]"
          ]
        },
        {
          "output_type": "stream",
          "name": "stdout",
          "text": [
            "\n",
            "\n",
            "[['→' '→' '→' '→' '→' '→' '→' '→' '→' '→' '→' '→']\n",
            " ['→' '→' '→' '→' '→' '→' '→' '→' '→' '→' '→' '→']\n",
            " ['→' '←' '←' '←' '←' '←' '←' '←' '←' '←' '←' '→']\n",
            " ['↑' '←' '←' '←' '←' '←' '←' '←' '←' '←' '←' 'X']]\n",
            "\n"
          ]
        },
        {
          "output_type": "stream",
          "name": "stderr",
          "text": [
            " 80%|████████  | 4000/5000 [14:10<03:49,  4.35it/s]"
          ]
        },
        {
          "output_type": "stream",
          "name": "stdout",
          "text": [
            "\n",
            "\n",
            "[['→' '→' '→' '→' '→' '→' '→' '→' '→' '→' '→' '→']\n",
            " ['→' '→' '→' '→' '→' '→' '→' '→' '→' '→' '→' '→']\n",
            " ['→' '→' '→' '→' '→' '→' '→' '→' '→' '→' '→' '→']\n",
            " ['↑' '←' '←' '←' '←' '←' '←' '←' '←' '←' '←' 'X']]\n",
            "\n"
          ]
        },
        {
          "output_type": "stream",
          "name": "stderr",
          "text": [
            " 81%|████████  | 4050/5000 [14:19<03:23,  4.67it/s]"
          ]
        },
        {
          "output_type": "stream",
          "name": "stdout",
          "text": [
            "\n",
            "\n",
            "[['↓' '↓' '↓' '↓' '↓' '↓' '↓' '↓' '↓' '↓' '↓' '↓']\n",
            " ['↓' '↓' '↓' '↓' '↓' '↓' '↓' '↓' '↓' '↓' '↓' '↓']\n",
            " ['↓' '→' '→' '→' '→' '→' '→' '→' '→' '→' '→' '↓']\n",
            " ['↑' '←' '←' '←' '←' '←' '←' '←' '←' '←' '←' 'X']]\n",
            "\n"
          ]
        },
        {
          "output_type": "stream",
          "name": "stderr",
          "text": [
            " 82%|████████▏ | 4100/5000 [14:30<03:06,  4.84it/s]"
          ]
        },
        {
          "output_type": "stream",
          "name": "stdout",
          "text": [
            "\n",
            "\n",
            "[['↓' '↓' '↓' '↓' '↓' '↓' '↓' '↓' '↓' '↓' '↓' '↓']\n",
            " ['↓' '↓' '↓' '↓' '↓' '↓' '↓' '↓' '↓' '↓' '↓' '↓']\n",
            " ['↓' '→' '→' '→' '→' '→' '→' '→' '→' '→' '→' '↓']\n",
            " ['↑' '←' '←' '←' '←' '←' '←' '←' '←' '←' '←' 'X']]\n",
            "\n"
          ]
        },
        {
          "output_type": "stream",
          "name": "stderr",
          "text": [
            " 83%|████████▎ | 4150/5000 [14:40<01:46,  7.97it/s]"
          ]
        },
        {
          "output_type": "stream",
          "name": "stdout",
          "text": [
            "\n",
            "\n",
            "[['→' '→' '→' '→' '→' '→' '→' '→' '→' '→' '→' '→']\n",
            " ['→' '→' '→' '→' '→' '→' '→' '→' '→' '→' '→' '→']\n",
            " ['→' '↑' '↑' '↑' '→' '↑' '↑' '↑' '↑' '→' '↑' '→']\n",
            " ['↑' '←' '←' '←' '←' '←' '←' '←' '←' '←' '←' 'X']]\n",
            "\n"
          ]
        },
        {
          "output_type": "stream",
          "name": "stderr",
          "text": [
            " 84%|████████▍ | 4201/5000 [14:50<02:43,  4.87it/s]"
          ]
        },
        {
          "output_type": "stream",
          "name": "stdout",
          "text": [
            "\n",
            "\n",
            "[['→' '→' '→' '→' '→' '→' '→' '→' '→' '→' '→' '→']\n",
            " ['→' '→' '→' '→' '→' '→' '→' '→' '→' '→' '→' '→']\n",
            " ['→' '←' '←' '←' '←' '←' '←' '←' '←' '←' '←' '→']\n",
            " ['↑' '←' '←' '←' '←' '←' '←' '←' '←' '←' '←' 'X']]\n",
            "\n"
          ]
        },
        {
          "output_type": "stream",
          "name": "stderr",
          "text": [
            " 85%|████████▌ | 4250/5000 [15:00<02:01,  6.15it/s]"
          ]
        },
        {
          "output_type": "stream",
          "name": "stdout",
          "text": [
            "\n",
            "\n",
            "[['→' '→' '→' '→' '→' '→' '→' '→' '→' '→' '→' '→']\n",
            " ['→' '→' '→' '→' '→' '→' '→' '→' '→' '→' '→' '→']\n",
            " ['→' '←' '↑' '←' '←' '↑' '↑' '←' '↑' '→' '↑' '→']\n",
            " ['↑' '←' '←' '←' '←' '←' '←' '←' '←' '←' '←' 'X']]\n",
            "\n"
          ]
        },
        {
          "output_type": "stream",
          "name": "stderr",
          "text": [
            " 86%|████████▌ | 4300/5000 [15:09<01:38,  7.11it/s]"
          ]
        },
        {
          "output_type": "stream",
          "name": "stdout",
          "text": [
            "\n",
            "\n",
            "[['→' '→' '→' '→' '→' '→' '→' '→' '→' '→' '→' '→']\n",
            " ['→' '→' '→' '→' '→' '→' '→' '→' '→' '→' '→' '→']\n",
            " ['→' '←' '←' '←' '←' '←' '←' '←' '↑' '←' '←' '→']\n",
            " ['↑' '←' '←' '←' '←' '←' '←' '←' '←' '←' '←' 'X']]\n",
            "\n"
          ]
        },
        {
          "output_type": "stream",
          "name": "stderr",
          "text": [
            " 87%|████████▋ | 4351/5000 [15:19<01:10,  9.24it/s]"
          ]
        },
        {
          "output_type": "stream",
          "name": "stdout",
          "text": [
            "\n",
            "\n",
            "[['↓' '↓' '↓' '↓' '↓' '↓' '↓' '↓' '↓' '↓' '↓' '↓']\n",
            " ['↓' '↓' '↓' '↓' '↓' '↓' '↓' '↓' '↓' '↓' '↓' '↓']\n",
            " ['↓' '→' '→' '→' '→' '→' '→' '→' '→' '→' '→' '↓']\n",
            " ['↑' '←' '←' '←' '←' '←' '←' '←' '←' '←' '←' 'X']]\n",
            "\n"
          ]
        },
        {
          "output_type": "stream",
          "name": "stderr",
          "text": [
            " 88%|████████▊ | 4402/5000 [15:28<00:57, 10.48it/s]"
          ]
        },
        {
          "output_type": "stream",
          "name": "stdout",
          "text": [
            "\n",
            "\n",
            "[['→' '→' '→' '→' '→' '→' '→' '→' '→' '→' '→' '→']\n",
            " ['→' '→' '→' '→' '→' '→' '→' '→' '→' '→' '→' '→']\n",
            " ['→' '↑' '↑' '↑' '↑' '↑' '↑' '↑' '↑' '↑' '↑' '→']\n",
            " ['↑' '←' '←' '←' '←' '←' '←' '←' '←' '←' '←' 'X']]\n",
            "\n"
          ]
        },
        {
          "output_type": "stream",
          "name": "stderr",
          "text": [
            " 89%|████████▉ | 4450/5000 [15:38<02:02,  4.50it/s]"
          ]
        },
        {
          "output_type": "stream",
          "name": "stdout",
          "text": [
            "\n",
            "\n",
            "[['↓' '↓' '↓' '↓' '↓' '↓' '↓' '↓' '↓' '↓' '↓' '↓']\n",
            " ['↓' '↓' '↓' '↓' '↓' '↓' '↓' '↓' '↓' '↓' '↓' '↓']\n",
            " ['↓' '←' '←' '←' '←' '←' '←' '←' '←' '←' '←' '↓']\n",
            " ['↑' '←' '←' '←' '←' '←' '←' '←' '←' '←' '←' 'X']]\n",
            "\n"
          ]
        },
        {
          "output_type": "stream",
          "name": "stderr",
          "text": [
            " 90%|█████████ | 4501/5000 [15:47<00:51,  9.65it/s]"
          ]
        },
        {
          "output_type": "stream",
          "name": "stdout",
          "text": [
            "\n",
            "\n",
            "[['→' '→' '→' '→' '→' '→' '→' '→' '→' '→' '→' '→']\n",
            " ['→' '→' '→' '→' '→' '→' '→' '→' '→' '→' '→' '→']\n",
            " ['→' '←' '←' '←' '←' '←' '←' '←' '↑' '←' '←' '→']\n",
            " ['↑' '←' '←' '←' '←' '←' '←' '←' '←' '←' '←' 'X']]\n",
            "\n"
          ]
        },
        {
          "output_type": "stream",
          "name": "stderr",
          "text": [
            " 91%|█████████ | 4550/5000 [16:00<02:03,  3.65it/s]"
          ]
        },
        {
          "output_type": "stream",
          "name": "stdout",
          "text": [
            "\n",
            "\n",
            "[['→' '→' '→' '→' '→' '→' '→' '→' '→' '→' '→' '→']\n",
            " ['→' '→' '→' '→' '→' '→' '→' '→' '→' '→' '→' '→']\n",
            " ['→' '↑' '↑' '↑' '↑' '↑' '↑' '↑' '↑' '↑' '↑' '→']\n",
            " ['↑' '←' '←' '←' '←' '←' '←' '←' '←' '←' '←' 'X']]\n",
            "\n"
          ]
        },
        {
          "output_type": "stream",
          "name": "stderr",
          "text": [
            " 92%|█████████▏| 4599/5000 [16:10<00:56,  7.07it/s]"
          ]
        },
        {
          "output_type": "stream",
          "name": "stdout",
          "text": [
            "\n",
            "\n",
            "[['↓' '↓' '↓' '↓' '↓' '↓' '→' '↓' '↓' '↓' '↓' '↓']\n",
            " ['↓' '↓' '↓' '↓' '↓' '↓' '↓' '↓' '↓' '↓' '↓' '↓']\n",
            " ['↓' '←' '→' '→' '→' '←' '→' '→' '←' '→' '→' '↓']\n",
            " ['↑' '←' '←' '←' '←' '←' '←' '←' '←' '←' '←' 'X']]\n",
            "\n"
          ]
        },
        {
          "output_type": "stream",
          "name": "stderr",
          "text": [
            " 93%|█████████▎| 4651/5000 [16:19<00:59,  5.83it/s]"
          ]
        },
        {
          "output_type": "stream",
          "name": "stdout",
          "text": [
            "\n",
            "\n",
            "[['→' '↓' '↓' '↓' '↓' '↓' '↓' '↓' '↓' '↓' '↓' '→']\n",
            " ['↓' '→' '↓' '↓' '↓' '↓' '→' '↓' '↓' '→' '↓' '↓']\n",
            " ['↓' '↑' '→' '↑' '→' '↑' '↑' '→' '↑' '→' '→' '→']\n",
            " ['↑' '←' '←' '←' '←' '←' '←' '←' '←' '←' '←' 'X']]\n",
            "\n"
          ]
        },
        {
          "output_type": "stream",
          "name": "stderr",
          "text": [
            " 94%|█████████▍| 4701/5000 [16:30<00:56,  5.26it/s]"
          ]
        },
        {
          "output_type": "stream",
          "name": "stdout",
          "text": [
            "\n",
            "\n",
            "[['→' '→' '→' '→' '→' '→' '→' '→' '→' '→' '→' '→']\n",
            " ['→' '→' '→' '→' '→' '→' '→' '→' '→' '→' '→' '→']\n",
            " ['→' '→' '→' '→' '→' '→' '→' '→' '→' '→' '→' '→']\n",
            " ['↑' '←' '←' '←' '←' '←' '←' '←' '←' '←' '←' 'X']]\n",
            "\n"
          ]
        },
        {
          "output_type": "stream",
          "name": "stderr",
          "text": [
            " 95%|█████████▌| 4750/5000 [16:40<00:40,  6.16it/s]"
          ]
        },
        {
          "output_type": "stream",
          "name": "stdout",
          "text": [
            "\n",
            "\n",
            "[['→' '←' '←' '←' '←' '→' '←' '←' '←' '←' '←' '→']\n",
            " ['→' '←' '←' '←' '←' '←' '←' '→' '←' '←' '→' '←']\n",
            " ['←' '→' '→' '→' '→' '→' '→' '→' '→' '→' '→' '←']\n",
            " ['↑' '←' '←' '←' '←' '←' '←' '←' '←' '←' '←' 'X']]\n",
            "\n"
          ]
        },
        {
          "output_type": "stream",
          "name": "stderr",
          "text": [
            " 96%|█████████▌| 4800/5000 [16:49<00:44,  4.48it/s]"
          ]
        },
        {
          "output_type": "stream",
          "name": "stdout",
          "text": [
            "\n",
            "\n",
            "[['↓' '↓' '↓' '↓' '↓' '↓' '↓' '↓' '↓' '↓' '↓' '↓']\n",
            " ['↓' '↓' '↓' '↓' '↓' '↓' '↓' '↓' '↓' '↓' '↓' '↓']\n",
            " ['↓' '→' '→' '→' '→' '→' '→' '→' '→' '→' '→' '↓']\n",
            " ['↑' '←' '←' '←' '←' '←' '←' '←' '←' '←' '←' 'X']]\n",
            "\n"
          ]
        },
        {
          "output_type": "stream",
          "name": "stderr",
          "text": [
            " 97%|█████████▋| 4852/5000 [17:00<00:25,  5.91it/s]"
          ]
        },
        {
          "output_type": "stream",
          "name": "stdout",
          "text": [
            "\n",
            "\n",
            "[['→' '→' '→' '→' '→' '→' '→' '→' '→' '→' '→' '→']\n",
            " ['→' '→' '→' '→' '→' '→' '→' '→' '→' '→' '→' '→']\n",
            " ['→' '↑' '→' '→' '↑' '→' '→' '↑' '↑' '→' '→' '→']\n",
            " ['↑' '←' '←' '←' '←' '←' '←' '←' '←' '←' '←' 'X']]\n",
            "\n"
          ]
        },
        {
          "output_type": "stream",
          "name": "stderr",
          "text": [
            " 98%|█████████▊| 4900/5000 [17:07<00:16,  6.06it/s]"
          ]
        },
        {
          "output_type": "stream",
          "name": "stdout",
          "text": [
            "\n",
            "\n",
            "[['→' '→' '→' '→' '→' '→' '→' '→' '→' '→' '→' '→']\n",
            " ['→' '→' '→' '→' '→' '→' '→' '→' '→' '→' '→' '→']\n",
            " ['→' '↑' '↑' '↑' '↑' '↑' '↑' '↑' '↑' '↑' '↑' '→']\n",
            " ['↑' '←' '←' '←' '←' '←' '←' '←' '←' '←' '←' 'X']]\n",
            "\n"
          ]
        },
        {
          "output_type": "stream",
          "name": "stderr",
          "text": [
            " 99%|█████████▉| 4951/5000 [17:17<00:07,  6.78it/s]"
          ]
        },
        {
          "output_type": "stream",
          "name": "stdout",
          "text": [
            "\n",
            "\n",
            "[['→' '→' '→' '→' '→' '→' '→' '→' '→' '→' '→' '→']\n",
            " ['→' '→' '→' '→' '→' '→' '→' '→' '→' '→' '→' '→']\n",
            " ['→' '→' '←' '←' '→' '→' '←' '←' '→' '→' '→' '→']\n",
            " ['↑' '←' '←' '←' '←' '←' '←' '←' '←' '←' '←' 'X']]\n",
            "\n"
          ]
        },
        {
          "output_type": "stream",
          "name": "stderr",
          "text": [
            "100%|██████████| 5000/5000 [17:26<00:00,  4.78it/s]\n"
          ]
        }
      ]
    },
    {
      "cell_type": "markdown",
      "metadata": {
        "id": "RHXWWXQTlL17"
      },
      "source": [
        "학습된 Q-value를 이용하여 학습된 정책을 출력합니다."
      ]
    },
    {
      "cell_type": "code",
      "metadata": {
        "id": "PqHh3TRcs3dh",
        "colab": {
          "base_uri": "https://localhost:8080/"
        },
        "outputId": "03f54ab5-e064-42df-f5f1-a469959928a8"
      },
      "source": [
        "print('Learned policy by DeepSarsa')\n",
        "policy.printPolicy(agent_DeepSarsa.get_q_values())"
      ],
      "execution_count": null,
      "outputs": [
        {
          "output_type": "stream",
          "name": "stdout",
          "text": [
            "Learned policy by DQN\n",
            "[['↓' '↓' '→' '→' '→' '→' '→' '→' '→' '→' '→' '→']\n",
            " ['→' '→' '→' '→' '→' '→' '→' '→' '→' '→' '→' '→']\n",
            " ['→' '→' '→' '↑' '→' '→' '→' '→' '→' '→' '→' '→']\n",
            " ['↑' '←' '←' '←' '←' '←' '←' '←' '←' '←' '←' 'X']]\n",
            "\n"
          ]
        }
      ]
    },
    {
      "cell_type": "code",
      "metadata": {
        "id": "-NFlcKhvoq4u"
      },
      "source": [
        "env.close()"
      ],
      "execution_count": null,
      "outputs": []
    }
  ]
}