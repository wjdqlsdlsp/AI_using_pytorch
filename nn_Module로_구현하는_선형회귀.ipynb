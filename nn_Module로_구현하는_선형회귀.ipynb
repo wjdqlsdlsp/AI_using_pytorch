{
  "nbformat": 4,
  "nbformat_minor": 0,
  "metadata": {
    "colab": {
      "name": "nn.Module로 구현하는 선형회귀.ipynb",
      "provenance": [],
      "authorship_tag": "ABX9TyPoKMOGBAqJwLLCvH5b+32p",
      "include_colab_link": true
    },
    "kernelspec": {
      "name": "python3",
      "display_name": "Python 3"
    },
    "language_info": {
      "name": "python"
    }
  },
  "cells": [
    {
      "cell_type": "markdown",
      "metadata": {
        "id": "view-in-github",
        "colab_type": "text"
      },
      "source": [
        "<a href=\"https://colab.research.google.com/github/wjdqlsdlsp/AI_using_pytorch/blob/main/nn_Module%EB%A1%9C_%EA%B5%AC%ED%98%84%ED%95%98%EB%8A%94_%EC%84%A0%ED%98%95%ED%9A%8C%EA%B7%80.ipynb\" target=\"_parent\"><img src=\"https://colab.research.google.com/assets/colab-badge.svg\" alt=\"Open In Colab\"/></a>"
      ]
    },
    {
      "cell_type": "code",
      "metadata": {
        "id": "NZyha_QTXEmG"
      },
      "source": [
        "import torch\n",
        "import torch.nn as nn\n",
        "import torch.nn.functional as F\n",
        "\n",
        "torch.manual_seed(1)"
      ],
      "execution_count": 2,
      "outputs": []
    },
    {
      "cell_type": "code",
      "metadata": {
        "colab": {
          "base_uri": "https://localhost:8080/"
        },
        "id": "O8AYDyjOXbRr",
        "outputId": "387590a9-c326-45c9-c5fd-ba9913769491"
      },
      "source": [
        "# 데이터\n",
        "x_train = torch.FloatTensor([[1], [2], [3]])\n",
        "y_train = torch.FloatTensor([[2], [4], [6]])\n",
        "\n",
        "# model = nn.Linear(input_dim, output_dim)\n",
        "model = nn.Linear(1,1)\n",
        "\n",
        "print(list(model.parameters()))"
      ],
      "execution_count": 3,
      "outputs": [
        {
          "output_type": "stream",
          "name": "stdout",
          "text": [
            "[Parameter containing:\n",
            "tensor([[0.8325]], requires_grad=True), Parameter containing:\n",
            "tensor([0.6215], requires_grad=True)]\n"
          ]
        }
      ]
    },
    {
      "cell_type": "code",
      "metadata": {
        "colab": {
          "base_uri": "https://localhost:8080/"
        },
        "id": "e9fe9CBvXdOt",
        "outputId": "e4f714ef-fa16-4b65-dc56-67118c323876"
      },
      "source": [
        "optimizer = torch.optim.SGD(model.parameters(), lr=0.01) \n",
        "\n",
        "nb_epochs = 2000\n",
        "for epoch in range(nb_epochs+1):\n",
        "\n",
        "    # H(x) 계산\n",
        "    prediction = model(x_train)\n",
        "\n",
        "    # cost 계산\n",
        "    cost = F.mse_loss(prediction, y_train) # <== 파이토치에서 제공하는 평균 제곱 오차 함수\n",
        "\n",
        "    # cost로 H(x) 개선하는 부분\n",
        "    # gradient를 0으로 초기화\n",
        "    optimizer.zero_grad()\n",
        "    # 비용 함수를 미분하여 gradient 계산\n",
        "    cost.backward() # backward 연산\n",
        "    # W와 b를 업데이트\n",
        "    optimizer.step()\n",
        "\n",
        "    if epoch % 100 == 0:\n",
        "    # 100번마다 로그 출력\n",
        "      print('Epoch {:4d}/{} Cost: {:.6f}'.format(\n",
        "          epoch, nb_epochs, cost.item()\n",
        "      ))"
      ],
      "execution_count": 4,
      "outputs": [
        {
          "output_type": "stream",
          "name": "stdout",
          "text": [
            "Epoch    0/2000 Cost: 3.844363\n",
            "Epoch  100/2000 Cost: 0.080185\n",
            "Epoch  200/2000 Cost: 0.049550\n",
            "Epoch  300/2000 Cost: 0.030619\n",
            "Epoch  400/2000 Cost: 0.018921\n",
            "Epoch  500/2000 Cost: 0.011692\n",
            "Epoch  600/2000 Cost: 0.007225\n",
            "Epoch  700/2000 Cost: 0.004464\n",
            "Epoch  800/2000 Cost: 0.002759\n",
            "Epoch  900/2000 Cost: 0.001705\n",
            "Epoch 1000/2000 Cost: 0.001053\n",
            "Epoch 1100/2000 Cost: 0.000651\n",
            "Epoch 1200/2000 Cost: 0.000402\n",
            "Epoch 1300/2000 Cost: 0.000249\n",
            "Epoch 1400/2000 Cost: 0.000154\n",
            "Epoch 1500/2000 Cost: 0.000095\n",
            "Epoch 1600/2000 Cost: 0.000059\n",
            "Epoch 1700/2000 Cost: 0.000036\n",
            "Epoch 1800/2000 Cost: 0.000022\n",
            "Epoch 1900/2000 Cost: 0.000014\n",
            "Epoch 2000/2000 Cost: 0.000009\n"
          ]
        }
      ]
    },
    {
      "cell_type": "code",
      "metadata": {
        "colab": {
          "base_uri": "https://localhost:8080/"
        },
        "id": "VMGsd6ZpXMCS",
        "outputId": "0f161162-239e-4774-ee69-0078055fc0e7"
      },
      "source": [
        "# 임의의 입력 4를 선언\n",
        "new_var =  torch.FloatTensor([[4.0]]) \n",
        "# 입력한 값 4에 대해서 예측값 y를 리턴받아서 pred_y에 저장\n",
        "pred_y = model(new_var) # forward 연산\n",
        "# y = 2x 이므로 입력이 4라면 y가 8에 가까운 값이 나와야 제대로 학습이 된 것\n",
        "print(\"훈련 후 입력이 4일 때의 예측값 :\", pred_y) "
      ],
      "execution_count": 5,
      "outputs": [
        {
          "output_type": "stream",
          "name": "stdout",
          "text": [
            "훈련 후 입력이 4일 때의 예측값 : tensor([[7.9941]], grad_fn=<AddmmBackward>)\n"
          ]
        }
      ]
    },
    {
      "cell_type": "code",
      "metadata": {
        "colab": {
          "base_uri": "https://localhost:8080/"
        },
        "id": "xhc2UbDPXu9F",
        "outputId": "c020592e-0262-4d4e-f772-5435d549acb1"
      },
      "source": [
        "print(list(model.parameters()))"
      ],
      "execution_count": 6,
      "outputs": [
        {
          "output_type": "stream",
          "name": "stdout",
          "text": [
            "[Parameter containing:\n",
            "tensor([[1.9966]], requires_grad=True), Parameter containing:\n",
            "tensor([0.0077], requires_grad=True)]\n"
          ]
        }
      ]
    },
    {
      "cell_type": "code",
      "metadata": {
        "colab": {
          "base_uri": "https://localhost:8080/"
        },
        "id": "XvRdMKW1XyQB",
        "outputId": "5990dc91-af5d-46a1-8b4e-c4a9dfa70eb2"
      },
      "source": [
        "# 데이터\n",
        "x_train = torch.FloatTensor([[73, 80, 75],\n",
        "                             [93, 88, 93],\n",
        "                             [89, 91, 90],\n",
        "                             [96, 98, 100],\n",
        "                             [73, 66, 70]])\n",
        "y_train = torch.FloatTensor([[152], [185], [180], [196], [142]])\n",
        "\n",
        "# 모델을 선언 및 초기화. 다중 선형 회귀이므로 input_dim=3, output_dim=1.\n",
        "model = nn.Linear(3,1)\n",
        "\n",
        "print(list(model.parameters()))"
      ],
      "execution_count": 8,
      "outputs": [
        {
          "output_type": "stream",
          "name": "stdout",
          "text": [
            "[Parameter containing:\n",
            "tensor([[-0.2707,  0.3117,  0.1606]], requires_grad=True), Parameter containing:\n",
            "tensor([0.4470], requires_grad=True)]\n"
          ]
        }
      ]
    },
    {
      "cell_type": "code",
      "metadata": {
        "colab": {
          "base_uri": "https://localhost:8080/"
        },
        "id": "q_ut5rdXX1Ow",
        "outputId": "e06ab55d-825c-4da9-c27b-b9dbbadc889f"
      },
      "source": [
        "optimizer = torch.optim.SGD(model.parameters(), lr=1e-5) \n",
        "\n",
        "nb_epochs = 2000\n",
        "for epoch in range(nb_epochs+1):\n",
        "\n",
        "    # H(x) 계산\n",
        "    prediction = model(x_train)\n",
        "    # model(x_train)은 model.forward(x_train)와 동일함.\n",
        "\n",
        "    # cost 계산\n",
        "    cost = F.mse_loss(prediction, y_train) # <== 파이토치에서 제공하는 평균 제곱 오차 함수\n",
        "\n",
        "    # cost로 H(x) 개선하는 부분\n",
        "    # gradient를 0으로 초기화\n",
        "    optimizer.zero_grad()\n",
        "    # 비용 함수를 미분하여 gradient 계산\n",
        "    cost.backward()\n",
        "    # W와 b를 업데이트\n",
        "    optimizer.step()\n",
        "\n",
        "    if epoch % 100 == 0:\n",
        "    # 100번마다 로그 출력\n",
        "      print('Epoch {:4d}/{} Cost: {:.6f}'.format(\n",
        "          epoch, nb_epochs, cost.item()\n",
        "      ))"
      ],
      "execution_count": 9,
      "outputs": [
        {
          "output_type": "stream",
          "name": "stdout",
          "text": [
            "Epoch    0/2000 Cost: 23858.978516\n",
            "Epoch  100/2000 Cost: 6.595523\n",
            "Epoch  200/2000 Cost: 6.270781\n",
            "Epoch  300/2000 Cost: 5.963076\n",
            "Epoch  400/2000 Cost: 5.671563\n",
            "Epoch  500/2000 Cost: 5.395337\n",
            "Epoch  600/2000 Cost: 5.133646\n",
            "Epoch  700/2000 Cost: 4.885660\n",
            "Epoch  800/2000 Cost: 4.650689\n",
            "Epoch  900/2000 Cost: 4.428047\n",
            "Epoch 1000/2000 Cost: 4.217053\n",
            "Epoch 1100/2000 Cost: 4.017160\n",
            "Epoch 1200/2000 Cost: 3.827707\n",
            "Epoch 1300/2000 Cost: 3.648180\n",
            "Epoch 1400/2000 Cost: 3.478066\n",
            "Epoch 1500/2000 Cost: 3.316879\n",
            "Epoch 1600/2000 Cost: 3.164104\n",
            "Epoch 1700/2000 Cost: 3.019345\n",
            "Epoch 1800/2000 Cost: 2.882121\n",
            "Epoch 1900/2000 Cost: 2.752095\n",
            "Epoch 2000/2000 Cost: 2.628862\n"
          ]
        }
      ]
    },
    {
      "cell_type": "code",
      "metadata": {
        "id": "IccvOq96X7xV"
      },
      "source": [
        ""
      ],
      "execution_count": null,
      "outputs": []
    }
  ]
}